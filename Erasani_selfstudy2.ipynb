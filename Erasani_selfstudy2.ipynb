{
 "cells": [
  {
   "cell_type": "code",
   "execution_count": 7,
   "metadata": {},
   "outputs": [
    {
     "data": {
      "text/plain": [
       "'!\"#$%&\\'()*+,-./:;<=>?@[\\\\]^_`{|}~'"
      ]
     },
     "execution_count": 7,
     "metadata": {},
     "output_type": "execute_result"
    }
   ],
   "source": [
    "import string\n",
    "string.punctuation"
   ]
  },
  {
   "cell_type": "code",
   "execution_count": 8,
   "metadata": {},
   "outputs": [
    {
     "name": "stdout",
     "output_type": "stream",
     "text": [
      "0.3585597226068584\n",
      "0.9112461265636602\n",
      "0.6166402433294139\n",
      "0.9118109259685705\n",
      "0.3453926718401026\n",
      "0.9164770221748149\n",
      "0.8414276157841873\n",
      "0.11394822027440399\n",
      "0.7823098883519259\n",
      "0.8083854334363777\n"
     ]
    }
   ],
   "source": [
    "import random\n",
    "for i in range(10):\n",
    "    x = random.random()\n",
    "    print(x)\n"
   ]
  },
  {
   "cell_type": "code",
   "execution_count": 9,
   "metadata": {},
   "outputs": [
    {
     "data": {
      "text/plain": [
       "7"
      ]
     },
     "execution_count": 9,
     "metadata": {},
     "output_type": "execute_result"
    }
   ],
   "source": [
    "random.randint(5, 10)"
   ]
  },
  {
   "cell_type": "code",
   "execution_count": 10,
   "metadata": {},
   "outputs": [
    {
     "data": {
      "text/plain": [
       "0.5"
      ]
     },
     "execution_count": 10,
     "metadata": {},
     "output_type": "execute_result"
    }
   ],
   "source": [
    "t = [1, 2, 3,0.5]\n",
    "random.choice(t)"
   ]
  },
  {
   "cell_type": "code",
   "execution_count": 12,
   "metadata": {},
   "outputs": [
    {
     "data": {
      "text/plain": [
       "{'a': 2, 'b': 1}"
      ]
     },
     "execution_count": 12,
     "metadata": {},
     "output_type": "execute_result"
    }
   ],
   "source": [
    "def histogram(s):\n",
    "    d = dict()\n",
    "    for c in s:\n",
    "        if c not in d:\n",
    "            d[c] = 1\n",
    "        else:\n",
    "            d[c] += 1\n",
    "    return d\n",
    "t = ['a', 'a', 'b']\n",
    "hist = histogram(t)\n",
    "hist\n"
   ]
  },
  {
   "cell_type": "code",
   "execution_count": 17,
   "metadata": {},
   "outputs": [],
   "source": [
    "def process_file(filename):\n",
    "    hist = dict()\n",
    "    fp = open(filename)\n",
    "    for line in fp:\n",
    "        process_line(line, hist)\n",
    "    return hist\n",
    "def process_line(line, hist):\n",
    "    line = line.replace('-', ' ')\n",
    "    for word in line.split():\n",
    "        word = word.strip(string.punctuation + string.whitespace)\n",
    "        word = word.lower()\n",
    "        hist[word] = hist.get(word, 0) + 1\n",
    "hist = process_file('emma.txt')"
   ]
  },
  {
   "cell_type": "code",
   "execution_count": 20,
   "metadata": {},
   "outputs": [
    {
     "name": "stdout",
     "output_type": "stream",
     "text": [
      "Total number of words: 162742\n",
      "Number of different words: 7460\n"
     ]
    }
   ],
   "source": [
    "def total_words(hist):\n",
    "    return sum(hist.values())\n",
    "def different_words(hist):\n",
    "    return len(hist)\n",
    "\n",
    "print('Total number of words:', total_words(hist))\n",
    "print('Number of different words:', different_words(hist))"
   ]
  },
  {
   "cell_type": "code",
   "execution_count": 21,
   "metadata": {},
   "outputs": [],
   "source": [
    "def most_common(hist):\n",
    "    t = []\n",
    "    for key, value in hist.items():\n",
    "        t.append((value, key))\n",
    "        t.sort(reverse=True)\n",
    "    return t"
   ]
  },
  {
   "cell_type": "code",
   "execution_count": 22,
   "metadata": {},
   "outputs": [
    {
     "name": "stdout",
     "output_type": "stream",
     "text": [
      "The most common words are:\n",
      "to\t5295\n",
      "the\t5266\n",
      "and\t4931\n",
      "of\t4339\n",
      "i\t3191\n",
      "a\t3155\n",
      "it\t2546\n",
      "her\t2483\n",
      "was\t2400\n",
      "she\t2364\n"
     ]
    }
   ],
   "source": [
    "t = most_common(hist)\n",
    "print('The most common words are:')\n",
    "for freq, word in t[:10]:\n",
    "    print(word, freq, sep='\\t')\n"
   ]
  },
  {
   "cell_type": "code",
   "execution_count": 26,
   "metadata": {},
   "outputs": [
    {
     "name": "stdout",
     "output_type": "stream",
     "text": [
      "The most common words are:\n",
      "to\t5295\n",
      "the\t5266\n",
      "and\t4931\n",
      "of\t4339\n",
      "i\t3191\n",
      "a\t3155\n",
      "it\t2546\n",
      "her\t2483\n",
      "was\t2400\n",
      "she\t2364\n"
     ]
    }
   ],
   "source": [
    "hist = process_file('emma.txt')\n",
    "def print_most_common(hist, num=10):\n",
    "    t = most_common(hist)\n",
    "    print('The most common words are:')\n",
    "    for freq, word in t[:num]:\n",
    "        print(word, freq, sep='\\t')\n",
    "print_most_common(hist)"
   ]
  },
  {
   "cell_type": "code",
   "execution_count": 31,
   "metadata": {},
   "outputs": [
    {
     "name": "stdout",
     "output_type": "stream",
     "text": [
      "Words in the book that aren't in the word list:\n"
     ]
    },
    {
     "name": "stdout",
     "output_type": "stream",
     "text": [
      "the project gutenberg etext of emma by jane austen please take a look at important information in this header we encourage you to keep file on your own disk keeping an electronic path open for next readers do not remove welcome world free plain vanilla texts etexts readable both humans and computers since 1971 these prepared hundreds volunteers donations contacting get further is included below need august 1994 158 date last updated 18 2002 should be named emma10.txt or emma10.zip corrected editions our new number emma11.txt versions based separate sources letter emma10a.txt are now trying release all books one month advance official dates time better editing midnight central day stated preliminary version may often posted suggestion comment those who wish so sure have up first edition xxxxx10x.xxx check sizes week ftp program has bug it that scrambles tried fix failed size will but try see copy least byte more less about page produce two million dollars each hour work fifty hours conservative estimate how long any selected entered proofread edited copyright searched analyzed letters written etc projected audience hundred if value per text nominally estimated dollar then 2 year four files thus upping productivity from goal give away trillion december 31 2001 10,000 x 100,000,000=trillion ten thousand titles which 10 expected computer users end than ever made gutenberg/ibc tax deductible extent allowable law ibc illinois benedictine college subscriptions paper newsletter go too other matters mail p o box 2782 champaign il 61825 when email fails michael s hart executive director hart@vmd.cso.uiuc.edu internet hart@uiucvmd bitnet would prefer send compuserve attmail mcimail  emulator directly archives mac point click type mrcnext.cso.uiuc.edu login anonymous password your@login cd etext/etext91 etext92 etext93 also etext/etext93 etext/articles suggest gut dir mget set bin zip index100.gut index200.gut list new.gut general newsletters legal advisor three pages start**the small print!**for public domain etexts**start why print statement here know lawyers they tell us might sue there something wrong with even got someone what's fault among things disclaims most liability tells can distribute copies want before use read using reading part tm indicate understand agree accept receive refund money paid sending request within 30 days receiving person received physical medium such as must return like distributed professor through association means no owns united states without permission paying royalties special rules forth apply under project's trademark create expends considerable efforts identify transcribe works despite contain defects form incomplete inaccurate corrupt data transcription errors intellectual property infringement defective damaged virus codes damage cannot equipment limited warranty disclaimer damages right replacement described 1 party costs expenses including fees remedies negligence strict breach contract indirect consequential punitive incidental notice possibility discover defect 90 explanatory note choose alternatively electronically second opportunity otherwise provided warranties kind express implied merchantability fitness particular purpose some allow disclaimers exclusion limitation above exclusions rights indemnity indemnify hold its directors officers members agents harmless cost expense arise indirectly following cause distribution alteration modification addition 3 book either delete references only exact requires alter modify however machine binary compressed mark proprietary resulting conversion word pro cessing hypertext software displayed clearly does characters intended author although tilde asterisk underline used convey punctuation additional links readily converted reader into ascii ebcdic equivalent displays case instance processors provide fee original honor provisions pay license 20 net profits derive calculated method already calculate applicable taxes don't royalty due payable 60 prepare were legally required annual periodic what gratefully accepts contributions scanning machines ocr licenses every sort contribution think charles b kramer attorney 72600.2026@compuserve.com tel 212 254 5093 end*the etexts*ver.04.29.93*end volume i chapter woodhouse handsome clever rich comfortable home happy disposition seemed unite best blessings existence had lived nearly twenty years very little distress vex her she was youngest daughters affectionate indulgent father consequence sister's marriage been mistress his house early period mother died ago indistinct remembrance caresses place supplied excellent woman governess fallen short affection sixteen miss taylor mr woodhouse's family friend fond particularly between them intimacy sisters ceased nominal office mildness temper hardly allowed impose restraint shadow authority being passed living together mutually attached doing just liked highly esteeming taylor's judgment directed chiefly real evils indeed emma's situation power having rather much way well herself disadvantages threatened alloy many enjoyments danger present unperceived did rank misfortunes sorrow came gentle shape disagreeable consciousness married loss brought grief wedding beloved sat mournful thought continuance over bride people gone left dine prospect third cheer evening composed himself sleep after dinner usual sit lost event promise happiness weston man unexceptionable character easy fortune suitable age pleasant manners satisfaction considering self denying generous friendship always wished promoted match black morning's felt recalled past kindness taught played five old devoted powers attach amuse health nursed various illnesses childhood large debt gratitude owing intercourse seven equal footing perfect unreserve soon followed isabella's their yet dearer tenderer recollection companion few possessed intelligent informed useful knowing ways interested concerns peculiarly pleasure scheme hers whom could speak arose never find bear change true going half mile aware great difference mrs advantages natural domestic suffering solitude dearly loved he meet conversation rational playful evil actual disparity ages increased constitution habits valetudinarian life activity mind body older though everywhere friendliness heart amiable talents recommended him sister comparatively removed matrimony settled london miles off beyond daily reach october november struggled hartfield christmas visit isabella husband children fill society again highbury populous village almost amounting town spite lawn shrubberies name really belong afforded equals woodhouses looked acquaintance universally civil accepted lieu melancholy sigh impossible till awoke necessary cheerful spirits support nervous easily depressed hating origin reconciled daughter's marrying nor compassion entirely obliged selfishness able suppose feel differently disposed done sad thing deal happier spent rest smiled chatted cheerfully thoughts tea say exactly said poor pity papa good humoured thoroughly deserves wife live my odd humours where advantage times dear shall coming meeting begin am far randalls distance walk nobody walking carriage james put horses while weston's stable talked night because housemaid doubt whether anywhere else hannah mentioned glad lucky slighted upon account make servant pretty spoken girl opinion whenever curtseys asks me manner needlework observe turns lock door bangs comfort somebody goes daughter hearing spared exertions maintain flow ideas hoped help backgammon tolerably attacked regrets table placed visitor immediately afterwards walked unnecessary knightley sensible eight thirty intimate connected elder brother frequent mutual connexions returned late absence brunswick square circumstance animated inquiries answered satisfactorily observed come out call afraid shocking sir beautiful moonlight mild draw back fire found damp dirty catch cold shoes speck quite surprising vast rain rained dreadfully hard breakfast wanted bye joy feeling hurry congratulations hope went behave cried ah tis business possibly regard comes question dependence independence rate especially fanciful troublesome creature playfully head certainly believe sometimes dearest mean horrible idea oh meant myself loves joke another fact faults told agreeable knew suspect knows flatter reflection persons chances gainer willing let pass hear behaved charmingly punctual looks tear face seen apart bears sorry lose thinks turned divided tears smiles acceptable secure provision therefore pain happily forgotten matter proved marry shook fondly replied matches foretell whatever pray none greatest amusement success widower perfectly constantly occupied friends wherever spend single alone deathbed others son uncle letting solemn nonsense subject believed met broadway lane began drizzle darted gallantry borrowed umbrellas farmer mitchell's planned blessed leave making supposes endeavour properly delicately endeavouring bring worthy employment young lady's imagine planning saying yourself idle talk merit proud guess known triumph cleverer depend merely luck talent quarrel claim drawn pictures nothing visits given encouragements smoothed enough comprehend straightforward hearted unaffected safely manage likely harm interference rejoined understanding silly break one's circle grievously elton whole fitted comfortably shame longer joining hands same service shew attention ask dare laughing invite fish chicken chuse six care ii native born respectable generations rising gentility education succeeding become indisposed homely pursuits brothers engaged satisfied active social entering militia county embodied captain favourite military introduced churchill yorkshire fell love surprized except full pride importance connexion offend command bore proportion estate dissuaded took infinite mortification threw decorum unsuitable ought whose warm sweet goodness spirit resolution pursue refrain unreasonable brother's anger missing luxuries former income still comparison enscombe cease once considered churchills amazing worst bargain poorer child relieved boy softening lingering illness mother's reconciliation kindred offered charge frank decease scruples reluctance supposed overcome considerations wealth seek improve complete became desirable quitted trade established favourable opening concern leisure occupation pleasures eighteen realised competence purchase adjoining longed portionless according wishes friendly begun influence schemes tyrannic youth shaken determination settling sale forward steadily objects view accomplished bought obtained beginning probability greater unhappy secured delightful judging truly pleasantest proof chosen excite choice tacitly uncle's heir avowed adoption assume unlikely father's assistance apprehension aunt capricious governed nature caprice strong affect deservedly saw report fine sufficiently belonging merits prospects common boasts lively curiosity prevailed compliment achieved generally proposed proper dissentient voice perry drank bates strengthened understood occasion morning mention heard says prized course formed pleasing irresistible sense source expression congratulation fortunate regret partial separation cooled ill missed losing hour's ennui companionableness feeble girls energy difficulties privations convenient solitary female circumstances approaching season hindrance spending evenings altogether moments enjoyment apparent taken surprize centre attended giving stay recovering likelihood ceasing weeks alleviation compliments neighbours teased sorrowful cake eat stomach different unwholesome regarded unfit earnestly dissuade vain prevent body's eating pains consulting apothecary gentlemanlike comforts applied acknowledge against bias inclination disagree perhaps unless moderately confirmation newly pair eaten benevolent nerves strange rumour perrys slice iii causes residence measure families horror parties terms fortunately parish donwell abbey seat comprehended unfrequently persuasion preferred fancied unequal company scarcely card standing westons liking privilege exchanging vacant blank elegancies drawing room lovely thrown goddard ladies invitation fetched carried hardship grievance widow vicar lady quadrille respect untoward enjoyed uncommon degree popularity neither stood predicament favour superiority atonement frighten hate outward boasted beauty cleverness distinction middle failing possible universal contented worked wonders quicksighted surrounded simplicity cheerfulness grateful recommendation mine felicity talker suited trivial communications gossip school seminary establishment professed sentences refined combine liberal acquirements elegant morality principles systems enormous screwed vanity honest fashioned boarding reasonable quantity accomplishments sold price sent scramble themselves prodigies goddard's high repute reckoned healthy spot ample garden gave plenty wholesome food run summer winter dressed chilblains wonder train couple church motherly entitled occasional holiday formerly owed neat parlour hung round fancy win sixpences fireside frequently collect sake concerned remedy delighted pleased contriving quiet prosings women fearfully anticipated looking close requesting respectful smith seventeen sight interest gracious dreaded fair mansion harriet several lately raised condition scholar boarder history visible acquired country happened admired plump bloom blue eyes light hair regular features sweetness determined continue struck remarkably smith's engaging inconveniently shy unwilling pushing shewing becoming deference seeming pleasantly admitted artlessly impressed appearance superior style deserve encouragement soft graces wasted inferior unworthy parted martin renting farm residing creditably coarse unpolished intimates knowledge elegance detach bad introduce opinions interesting undertaking busy admiring talking listening forming betweens flew unusual supper closed watch ready moved forwards alacrity impulse indifferent credit attentively honours meal recommend minced scalloped oysters urgency guests occasions feelings warfare cloth laid fashion conviction suppers hospitality welcomed visitors grieve basin thin gruel thorough approbation constrain clearing nicer propose venturing eggs egg boiled serle understands boiling hurt bit tart ours apple tarts preserves advise custard glass wine tumbler water satisfactory intentions personage introduction panic humble gratified affability treated actually iv quick decided inviting encouraging telling foreseen shrubbery divisions ground sufficed varied exercise confined ventured summon valuable privileges approved confirmed designs docile totally conceit desiring guided attachment appreciating shewed taste strength convinced granted sentiment distinct independent object basis esteem attempts usefulness parents questions discovered truth penetration chose farther teachers affairs naturally martins mill months describe encouraged talkativeness amused picture beings enjoying youthful exultation martin's parlours upper maid cows alderneys welch cow called drink dozen thinking immediate fancying son's appeared narrative sink forever inspiriting notion meaning led evidently dislike share walks merry games dwelt obliging order walnuts shepherd's sing singing flock bid wool spoke blush goose finest sunday asked nash prince richardson sup line yes reads agricultural reports lay window seats cards aloud extracts entertaining wakefield romance forest ride kingston horseback foot raise yeomanry precisely lower creditable 8th june birthday 23rd fortnight day's settle seem probably repent hence men afford beforehand afloat employed stock diligence indoors talks taking scrape acquainted objected follow fit misfortune birth careful associates gentleman's station degrading force firmly permanently advisable marries mere farmer's your's elizabeth educated ignorant vulgar watched fluctuations speech alarming symptoms admirer trusted serious difficulty harriet's side oppose arrangement road respectfully unfeigned survey yards eye robert contrasted gentlemen gained insensible voluntarily noticed gentleness admiration remained minutes kept waiting running smiling flutter compose happening chance towards forgot morrow happen undoubtedly compared entire expect clownish air imagined confess nearer mortified genteel repeatedly specimens bred seeing perceiving wondering awkward abrupt uncouthness wholly unmodulated knightley's compare gentleman plainly carrying speaking silent forty makes grows glaring disgusting loudness coarseness awkwardness becomes passable detestable later solemnly guessing completely gross inattentive appearances profit engrosses forgetting inquire market thriving thrive illiterate disturb remember answer grave displeasure itself elton's held pattern openness quickness bluntness likes humour copied downright commanding suits figure copying sufferable contrary model seems grown design ingratiating softness strikes softer repeated personal praise justice blushed fixed driving palpably probable feared predict equalled plan brain during expediency low fairly doubtful sufficient vicarage deficiency meetings foundation weight efficacy fastidious feature dispense riding conquered v supplying quarrels fight battle yesterday agreeing associate judge feels sex objection hand wants inducement twelve lists regularly neatly arranged alphabetically rule drew fourteen preserved expecting steady submit requiring industry patience subjection stimulate affirm persuade omitting refresh memory feelingly moment added charm senses spoiled cleverest puzzled assured slow diffident cope inherits dependent preparing material matrimonial submitting thank borne despair grow cross wantonness plague vexation quarter possibilities pretend genius foretelling flatterer worse undesigned ignorance hourly flattery learn presenting inferiority venture gain places belongs uncomfortable mistaken doctrines tend adapt rationally varieties polish anxious lament attempt deny seldom hazle brilliant countenance complexion height firm upright glance hears gives loveliness add personally appears lies dread equally stout confidence kinder truer qualities lead lasting blunder errs angel spleen brings john blind frightened unjust unkind excuse liberty consider somewhat hinting discussion supposing inconvenience apprehended accountable approves province advice remains fate alarmed outcry sincere excited anxiety gently declares cared hereabouts tempt creating slight state assure conceal respecting destiny suspected transition weather surmise vi direction decidedly hesitation assurance hints confident fairest falling scruple praised warmly wanting perception striking improvement proofs growing graceful attractions infinitely grace artlessness admissible contradict gallant decision points principally superadded skilful sighing animation lover seconded sudden likeness leaving stopt naivete sooner exclaimed exquisite possession passion likenesses attempted tolerable disgust delight entreat charming drawings landscapes flowers inimitable pieces raptures delicate difficult peculiarity lines mouth words answering persuaded proposal stand earnest pressing produced portfolio containing portraits finished decide beginnings miniatures lengths pencil crayon colours turn progress music labour sang steadiness approached excellence deceived skill artist musician reputation accomplishment higher deserved spirited companions ecstasies pleases performances capital variety faces study sitting stealth kindest unlike henry bella sheet eager refuse coarser featured mama's sketch fourth baby sleeping sofa cockade nestled down conveniently that's george corner unclosing length pet vowed provoked agreed flattering trouble persuading finish apologised unfavourable forswear husbands wives repeating declaration wait portrait destined honourable mantelpiece blushing attitude presented mixture fidgeting behind watching touch stationing gaze offence elsewhere occurred employ lessen irksomeness listened peace smallest intermission jump charmed displeased encourager discern complaisance throw considerably filling memorial associations promising entreated attending civilities courtesies accompanied rapid continual defended criticism suspecting addressing correct eyebrows eyelashes resemblance effect shade tall presents proportions fore shortening prettily draws doors shawl shoulders tree safe placing touched admirable framed depended doer commissions stirring fogs alert commission executing errand endure desired repetition entreaties assurances frame directions pack ensure safety incommoding mostly fearful incommoded precious deposit tender suit languish principal vii fresh services agitated hurried announcing extraordinary longing minute finding parcel besides songs lent contained direct wrote fast ashamed asking connect i'd pressed expectation grammatical composition disgraced language sentiments conveyed writer expressed liberality propriety delicacy paused anxiously forced slowly helped concise diffuse strongly takes pen vigorous certain returning speedily intelligible unequivocal doubts demurs expressions inflicting unbidden prompted write disappointment beg pardon mistake misunderstanding purport wording reserve continued contemplating persevered silence apprehend bewitching powerful hesitate duty hesitating safer graciously occur definition deceive instead confused thoughtfully mechanically twisted waited result impatience hopes suspense approving grieved wavering visited surmised forcibly aghast dreadful escape honour severe pang killed banished conceited conscience opposing censure natured visiting writing consideration consolation offending cares advised protest formation sentence replying tendency brace decisive ungrateful sealed bringing invited tone linen draper refinement teacher envy conquest appear dark attentions tittle tattle hitherto explained cheering rejected softly absent allowing bond street modest mounts horse solace opens introduces diffuses prepossession suspicious imaginations grew stronger viii slept gradually getting bed appropriated judged safest previously defer induced civility ceremony offering answers amusing contrast protracted apologies hesitations rude sun treat invalids privileged stranger substitute entertain walker pace tedious fetch greatcoat likewise seemingly inclined chat voluntary depends improved cured girl's giggle bestow overpower delay gossips tiresome wretches contradiction presently smile reason confidant dropt hint adviser offer desperately consult considers imprudent speaks plans advising esteemed counsellor detained wretch absolutely inferred refused red indignation simpleton foolish incomprehensible imagines madness clearer admit address loudly calmer asperity infatuation blinds claims relations simple experience wit avail tempered beneath deserts helpmate trust aright cry extreme crossed friend's partiality richest sphere moves degradation illegitimacy level allowance grudged indubitable gentlemen's whoever shift move distaste ambition proceeded disinclined haphazard selfish farthest reply assertion contemptible represent slightingly waiving possesses recommendations ninety nine philosophic fall minds certainty sought chusing consequently nice comprehending readiness highest possess abusing misapply delights bewitches satisfies pick wondered receives perceive unfortunate puff working weak produces mischief expectations offers connecting obscurity prudent disgrace involved mystery parentage revealed greatly teach desperate master's canvassing angry application abide refusal tolerate assistant altered errant sincerity unconcerned habitual opposite unpleasant views secret projects laughed disclaimed sentimentally act unreserved pounds apiece doings abruptly vexed promoting sanction affair provoking exceedingly indistinctness her's adversary's materially cast adequate restoratives staying uneasy man's pleading failure prominent uneasiness woman's justify pretensions observer hastily resentfully inconsiderate attentive war motives effects overcoming prudence originally attend sick clayton park whist club remonstrated shabby player journey enviable bearer conscious rode significantly luckiest agreeableness ix forgiven proceedings justified endeared elegantly sighed visibly remembered furnished utmost latter improving chapters intention easier pleasanter imagination range labouring enlarge comprehension sober facts literary pursuit mental collecting transcribing riddles quarto hot ornamented ciphers trophies literature collections grand scale assisted invention recollect worth putting ended kitty frozen riddle intellects requisition contribute enigmas charades conundrums intently recollections ungallant breathe lips politest puzzles recited charade doth affliction denote destin'd antidote soften heal transcribed security freshness stupidest fellow inspire inspiration piece addressed collection expose deep moment's pause tremor loth examine pomp kings lords earth luxury ease behold monarch seas reverse freedom flown lord sea bends slave reigns thy supply approval beam pondered caught passing puzzling confusion dulness courtship addresses approve epithets justest humph benefit convince crisis observations eagerness kingdom neptune trident mermaid shark syllable mermaids sharks listen court ship cream follows resist concluding pointed completest clear eligibility congratulate confirm alliance embraces articulate arrive acknowledgment verses prologue play motto prose strangest smiths eltons courts pre respective homes sends channel smooth shakespeare passage michaelmas handsomest invitations preached abbots ran front peeped scolded staid arm cole conduct fools phrase rise satisfy nicely studied twelvemonth declining exception intent comparisons cheeks glow rejection committed beaming private divide couplet appropriation ceases poet capacities submitted parts publicity lasts pays tenderest refine betray improperly affix affixed overpowered tribute secrecy pushed proceed souls ridiculous recurrence inquiry dears fairy distinctly explanations complimentary conclusion aye nodded stanza kindled flame deplore hood wink'd aid near approach fatal garrick's christened catherine grandmama nursery easter lawyer inconvenient sadly necessity 28th thankful promises musing accomplish unwelcome submissive affected branch mama eldest chair grandpapa string knife knives grandpapas rough papas boys hardy misbehave sharp tosses ceiling frightful whichever preparation o'clock hero discerned push die ostensible dining promised conditionally thanked disappointing rubber re urged declined bow amiss doubtingly glanced examined smilingly writes effusion honoured replacing proudest parade speeches apt incline laugh indulge sublime charitable detached cottage leading angles broad irregular main abode dwellings rose smartened proprietor slackened observing remark yellow curtains admires intimately hedges gates pools pollards exteriors probabilities class contrive pretence housekeeper message induce tempted recollecting inducements fool husband's formidable image prosing undistinguishing unfastidious relative unmarried poverty celibacy narrow sport candour sour barely perforce illiberal contracted shilling sixpence resources occupations variation carpet affections avoided sensation fear parent warmer blinder nephews nieces niece bates's heaven forbid knightleys fairfax stomacher knit garters grandmother tires death topics superseded compassionate distresses relief counsel purse temptations romantic virtue troubles sympathy intelligence sickness remaining impression scene sights trifling creatures vanish hedge tottering footstep slippery stopping wretchedness recall bend trial stability exertion sufferers wretched empty distressing ourselves joined sufferings parley accompany increase footpath imitation stopped lacing boot stooping begged overtaken setting orders pitcher broth acting ahead obligation involuntarily child's theirs around join detail experienced yesterday's cole's stilton cheese north wiltshire butter cellery beet root dessert consoling interests serve quietly pales arrange broke lace dexterously throwing ditch stop acknowledged inability equipped ribband proposition exceed alertness conducting communicated ajar fully incessant practicable lovers windows aspect glory schemed successfully purposely gallantries allusions cautious advances inch hazard believes ingenious device xi superintend quicken measures anticipation reality henceforth prime fortuitous rapidly somehow surry exciting vacation holidays autumn bathing nervously apprehensively forestalling fatigues coachman alarms needless competent maids reaching bustle arrival variously dispersed noise endured respected maternal solicitude ones instantly attendance drinking playing disturbance restless wrapt doating tenderly ties inherited fears wingfield alike benevolence habit profession reserved prevented capable unreasonably reproach perfection worshipping clearness ungracious escaped injuries calmly blindness regardless forbearance peculiarities fidgetiness remonstrance retort bestowed charity properest unsullied cordiality seated shake grievous agrees plaintive hesitated excepting false doubted disengaged forget strike convenience aside advocate misery slighting existed flying henry's kite windy september scarlet fever cobham passes fly exceeding weymouth dated sept madam signed f c coolly finds depending affords bordered sufficiency whence resulted xii disagreement procuring concession quarrelled assist restoration danced aunt's arms unceremoniousness amity sauciness whim dealings discordancies lives lapse understandings example renewing grievances argument bitterly disappointed d'ye succeeded english burying calmness indifference requisite conversable subjects rarely mixing occasionally communicative magistrate curious anecdote field local fail longest attachments drain fence felling destination acre wheat turnips spring corn equality cooler rendered interrupting labours terribly tired unpersuadable article basins ordered discourse south strenuously weakness bella's throat unsafe envious miserable prohibited forgets bilious practice calling attributed embrocation wingfield's applying bateses colds prevalent heavy influenza sickly confound neighbourhood airy vicinity aches palpitations pale turning middling fatigued doctoring coddling graham's intending bailiff scotland prejudice praising accidentally excessively colonel campbell topic discussed similar harmony agitation comments undoubting wholesomeness philippics houses unfortunately failures recent cook hired dangerous shaking fixing ejaculation ear consequences rumination suffice restore relish interval moreover unhealthy mud cromer holds pure lodgings consulted stake travel reached law's breaking coast drugs sarcastic dryness interposition moving langham cut meadows conceive proving maps harsh reflections unconsciously attributing soothing renewal xiii swiftly mornings engagement avoiding denial preference division amounted occupy carriages especial numbers 24th doom feverish sore excluded unavoidable absences representing comfortless advanced invalid carry glowing despatch roast mutton rice pudding hastening describing complaint inflamed heat pulse liable throats alarm infectious putrid risks tranquillised excess remain feed snow interfere hoarse demand previous conceptions impartially vision muttering rejoicing extricated civilly accepting prompt exulting employments dignities duties naming parting assuring news balance overlook moderate negligent slyness astonishment imagining regulate behaviour accordingly ascertain blunders mistakes increasing coldness shrinking punctually motion flakes sky overcharged milder white happiest abroad sacrifice disagreeables drive expressing discontent encounter absurdity snowing folly people's deem thinner clothing defiance shelter dull dismal servants shivering colder rooms assent emulate usually administered travelling complying quarrelsome heroism glasses wrapped arrived step spruce dressing lengthened dress flattered cordial complaints estimable lasted dismay sheepskin precautions contrivances modern fenced guarded breath unpermitted afternoon ha snows seasonable extremely invites snowed se'nnight astonished fires values hospitable select accommodate enter slavery sweep gate xiv joyous disperse related arrangements perplexities uninterrupted communication gratifications oddities enjoy enjoyable engrossed insensibility elbow continually obtruding solicitously avoid internal transfer absurd insufferable zeal effort preserve positively amongst overpowering syllables reviving replete coupled sensations timed appearing polite substance released saddle assented sacrifices january secrets frank's stir issue nodding vagaries whims caprices stone devil wishing undergoing sanguine stands spare blessing instinctive confinement gladly apprehensive delays braithwaites jealousy jealous teazed man_'s decides caution individual nephew owes exercises xv lateness chatty convivial separations augmentation improprieties awake terror perverse infection earnestness chamber learnt concealing inconstancy abominable behaving implore persuasions disorder scrupulous careless nurse catching ulcerated complain assuming offended removing reproof succeed examining opened covered drifting wind prove engagements storm consternation pursuing unfeelingly two's impassable blown bleak confessing lest hurrying impede accommodation contrivance lodged exclamation representation revived blocked adventurous accumulations drifted along shod discussing nowhere whiten clouds coachmen tidings appeased urging recommending brief ring bell rung deposited cool recover carefully discovery darker stept escorted lawfully shut tete suspicions quarters restrain gravity seized demanded violent availing declaring hoping fearing adoring ardent unequalled unexampled resolved seriously apology diffidence professing vainly resolve drunkenness deliver accent boastful amazement drunk elevate confuse protested suspicion injurious slightly acknowledging resumed urgent inebriety presumption fewer struggles politeness witnessed unsteadiness professions dead alive misled sole marking adoration insinuating uppermost joyously interpret confesses error attraction affronted respectably ends misconception inequality supplication swelling resentment emotions zigzags embarrassment indispensable coldly proudly indescribable irritation trembling dangers solicitous perturbation needed separating xvi curled overthrow development blow"
     ]
    },
    {
     "name": "stdout",
     "output_type": "stream",
     "text": [
      " humiliation mis doubled unmarked dubious jumble thick headed unnecessarily instant indebted start indiscreetly shewn mortifying respects sunk proposals insulted arrogance pretended sighs abundance devise allied aggrandise enrich heiress gradations younger ancient landed inconsiderable notch belonged secondary alliances raving incongruity honesty complaisant courtesy motive warrant ordinary observation misinterpreted adventuring trick introducing william coxe pert relapse dispiriting cogitation explanation future continuing discontinuing subduing eclat unmirthful blundered temporary gloom analogy operation poignant unclosed softened brighter alleviations disappoint acute retentive principals asunder atmosphere unsettled frost thaw unfriendly freeze prisoner excuses absenting confine wise seclusion cleared amiableness hanging xvii lamentations doated innocently feminine ceremonious proposing bath compliance regretted impossibility retain commands agreeably announced pointedly solemnity acknowledgments lonely promptitude recovered undergo penance destroy industriously feeding grossly convictions prophecies confession renewed blaming testifying ingenuousness lowly modesty attaching abundantly artless dignity console resemble welfare minded discreet repressing promote unvarying striving inadequate sympathise extinction composure routine betraying maintained non resolutely inevitable strive unrequited evident persisting removal effecting cooling moderation repellent wound cure xviii distant occurs proportionate depression flies begins restored foresaw suffer suffered churchill's temptation announce gala ending perceived arguments unnatural luxurious contrived master tempers conceived limb amount rid idlest haunts watering proves unfair interior chuses manoeuvring finessing vigour messages rightly simply opposition situations loud shifts expedients meanly exerting hearts principle consistently bending knack unmanageable transported obedience observance burst nought roused opposed yielding notions expert flourishing falsehoods hit preserving preventing singular doubly omission signified behindhand french aimable plausible treasure virtues throughout parishes powered chattering coxcomb farming enable require breathing king practised politician conduce display dispensing flatteries puppy prejudiced month's sins presumed imperfection contributing scanty counteract waste floor sized apartment cordially knitting warmest thanks beaufet coles ceremonies ball commendation handsomely wander mistresses misses jumped usher dancing inquiring unexpected eagerly hunting huswife hid apologise fills crosses hetty checker ma'am pore amazingly god spectacles fairfax's handwriting beautifully nobody's deaf jane's twice pondering meanwhile deafness raising remarkable deafer friday saturday tuesday wednesday campbells ireland dixon impatient kingdoms countries declare dixon's press dublin baly craig blame animating insidious excused accompanying joint backward whirling sails dashed presence prefers devoting wisely 7th hang considerate unwell holyhead monday flurry drawback poorly unlucky bless guard story glancing detain regained orphan lieut regiment infantry fame save dying action sinking consumption fondling engrafted officer deserving camp saved england guest fondness campbell's educating appointments subsistence hereafter discipline culture lighter masters abilities nineteen qualified instruction sharing judicious sobering suggestions remind unseen unfelt unabated defies eligibly bread earn fortitude novitiate retire retained wiser resisted relinquished compatible weakened varying human discharged truths double treble recovery welcoming novelty accusation refuted examination acquit eternal fuss reasons imputed magnified injured depreciating fat likeliest grey lashes denied skin cavil colour fuller reigning admire twofold complacency rendering determining entitling started pitiable seduced actions mischievous suggested successless sucking poison sharer purest resolving effectually career laborious recantation prejudices relapsing provocations reappeared description ate exhibitions caps workbags offences necessarily affectation greatness performance cloak disgustingly suspiciously dixons bent insight suitableness smoothness delineated distinguished artifice surmises changing procure forgive provocation openly papers swept entertained undone instrument grandmother's indulgence deficient muffin handed arch arises discretion perseverance appease porker loin leg pork steaks fried grease hind salted salt boils turnip carrot parsnip hither quickest bountiful sound bonnet spencer patty salting pan washing kitchen hawkins desires regards oppress lot goodly heritage sly precise neighbour joyfully absorbing starting appeal standard pew wonderings worn whispered discoveries aspired lets chatter humouredly talkative runs strictly shower lamented strangers detaining rush heated thither evidence corresponding unchecked pour gown ford's woollen haberdasher's shop dealt fainted umbrella buyings whispering tremble can't courage stables floated kindly sincerely wounded genuine disturbed discerning exerted trifle rejoice subordination learned serviceable deadening shock retaining seeking condescension dies hawkins's circulate christian series debased deeply gay caring defying augusta thousands l thereabouts rapidity distinguishing glorious steps accidental rencontre green's brown's blushes richly scattered sweetly congratulated fearless cautiously preparations pique pretension spread inseparably moral lesson profitable administer lessened solicitudes awkwardnesses individually vaunted disdain attainable uncertain blood bristol merchant mercantile hazarded guessed drudge stupid grandeur alas vacancies reappearance glimpse somewhere shoulder favouring warmth conjecture perpetually furniture invariable irritated ceaseless repetitions hat entertainment waverings variations predominated unhappiness dared driven dissipate occasioned absolute neglect ingratitude determine formal drove applications recurrences glossed stars trunk rev philip lifted butcher's cart coaches gravel espalier trees revive portion summons unattended solitarily collected merest commonplace measured pencilled marks memorandums wainscot shortness thankfully justly resent separated process refreshment leaned murmurs commonest accosted oxford dry resisting quieter reanimation exhausted route sparkling unconscious innocent injunction amendment mounted wore sluggish augur geography tranquillity faithful pupil eleven soliloquy downstairs overcareful fidgets clock hall midst liveliness earlier quicker creep faster needs presume admirably falsehood handled exaggeration horsewoman rides balls musical proportionably fathers reception wisest conferred thanking qualify extravagant acquiescence detected exemption foreseeing objecting treachery nights unmixed crown hay errands yours barnes mixed concurrence fashionable ordinarily gifted tongue hearty puddle sees hop permitted nod engage companionably constant bearing construction amends hyperbolical securing confessed oftener quest positive insincere inn post built sashed contemplate capabilities environs furnish particulars argued prevail inclinations inelegance holding cheap facing recollected successful preparatory betrayed utter deplorable defence hue peculiar disputing attends informs citizen buy sell gloves patriotism adored popular guinea sleek tied parcels men's beavers york tan displaying counter amor patriae stretch pronounce commit claiming discreetly leaves conclude hesitatingly plays vouchsafed sensibility sounds recur oneself stupidity improper quickly checking scenes outwardly critical wickedness prone idolized repulsive quality oftentimes conquering perpetual cautiousness pitied shared blockhead accommodations inevitably inroads housekeeper's butler's pantry willingly freak chaise foppery accord rationality unselfish extravagance restlessness heedlessness charges blot marked harshly leniently allowances excesses bowed bows newspaper hum instant's relieve provoke bearers opportune occurrence unpretending unexpensively yielded larger insult accounting assembled consisting dance bare acted owned solicited folding screen draught persuadable briefly neglecting numerous resigned dews desirous incumbent lessening allay deliberately treatment decline breaks person's mortify reminding touches malt liquor risk hurting piquet hungry butler concealed unspent undaunted moralised impudent handle gloried achievement ostentation evasions defend vanities inference failings propensity amply noticing helping slices practise plentiful owner bravado unconcern taller nonsensical strongest dexterity unobjectionable male cox's females politics surrender pleasantness remote relating pianoforte dialogue ensued broadwood's bewildered rejoiced delightfully instruments slap pitifullest spinet indulging entrapped nay untouched testifies acuteness mode elderly guide extend reflect privation february march cases adopt noble honestly accident overboard vessel consequent durable observable interrupted courses orderly dish injure unconvinced reasonings giver paternal amid everyday remarks jokes entree exult blooming heartily unsentimental pangs shedding purchased guilt dwelling pedal unsuspicious heroine's en passant divined restrained hated cox abundant despise questioned visitings reasonably retirement boast across rousing outree curls irish improvidently distinguish soul thoughtful assisting humane humanity unostentatious disinterested consent amazed supplanted imprudence revolts mad sheep library shameful haunting petticoat petticoats mimic divert irritate louder drown mysteriously lamenting reproached sign combated gaining yield limitations perform accompaniment song correctly duly accused roundly asserted resign vocal instrumental sung voices momentary interruptions objections subside injury deduction touchstone conveying cutting disinclination dwell surprizes enhanced oath fatigue falls indignantly touching mercy concert performers originating space dances waltz top dancer mustered rarity suddenness matched partner languid dignified repaid splendour transgressed submission unfeignedly unequivocally idleness vigorously comforted lamp sunshine valued execution italian coxes producing dined anne impertinently swayed muslins traffic busiest stray obstinate mule liveliest butcher tray tidy homewards basket curs quarrelling bone dawdling baker's eyeing gingerbread enlarged knocked shopping fidget palatable wretchedest reward muslin figured ribbon ford job fastening rivet saunders hindered chimney sweeping mistress's baked apples wallis wallises uncivil custom eats gets fruit dumplings dumpling oblige ribbons ye wrist medley fasten exceeds fondest closet baking sack orchard famous shocked larkins distressed bushel bake boil hodges sacks signify remainder unluckily upstairs narration pursued desultory staircase narrower deprived slumbering deedily livelihood silversmith uninterruptedly unevenness wedging emotion bars feebly discrimination pronounced notes prize broadwood whisper random instrument's indefinite contingencies conveniences conjectures workmen tongues labourers conjecturing restoring healed waltzes worlds tune coloured cramer melodies shews compunction apparently cherishing reprehensible key robin adair shortly descried casement d commandingly listeners scepticism deliberating store watches instances successively accrue felicities wicked aids pacing dimensions discovering largest readiest undertook reckoning portioning gilberts gilbert cousins speculation score wild thoughtless inconsiderately resorted deemed endeavoured magnificent demurred crowd gravely measuring art willed forgave purposes certified terrors waits exchange repeat explain representations aired inhabited bodies surely curtain sash complains stokes undertakes carefulness measles wrap perry's council forlorn candlelight clean exchanged nonsenses perplexity ballroom's voted selves draughts miserably crowded sandwiches scouted infamous fraud briskly stairs chief properer brisk minor lights trifles approver fro suggesting overhearing term feasible proceeding uncertainty prosperous affording noisy larkins's week's aimed indignant reprobating joyful urge nephew's unwillingness forwarded repugnance finale exclaim reflected total redeem dejection horrid seize destroyed doubtfully surpass consciously argumentative forerunner forcing reflecting embarrassed completed incapable procrastinating correspond correspondent constancy listlessness weariness thing's insipid oddest mourners triumphant contradicted opportunities woeful odious headache impute unbecoming languor dialogues inventing imaginary quit struggle foresee replies negatives allusion denotes inexcusable supposition build changeable perusal undervalued exterior attractive precision flourishes keenly restraints unadorned wreath lowest adieus gratifying stimulative folded unchanged subsequent clothed advantageous speculations confirming behalf latest disappearance attained ringing soothings ingenuity convincing submissively painful exert violence tenderness beat clearest sighted invaluable names changes devotion retreated vexatious shorten unpretty permit hasty witty clothes bashfulness affectedly composedly shine familiar maple grove suckling's grounds favourably entrance appealed astonishingly exclaiming reminded transplanted strikingly laurels profusion bench enchanted extensive attack dyed overrated beauties counties silenced exploring explore barouche landau preferable suckling explored king's attract proverb selina stuck paling mix unknown waters wonderful "
     ]
    },
    {
     "name": "stdout",
     "output_type": "stream",
     "text": [
      "secluded host partridge resided impolite auspices dashing reproofs outrage changed precedes performer doatingly passionately devoid mediocre e accustomed smaller spacious apartments outstepped pardoned concerts establish weekly allies jeffereys clara milmans bird cooper enumerate fright wins affirmative gentlewoman e.'s caro sposo upstart airs underbred finery bosom diverted glibly departure hurts remiss neglected avowedly lending baits breeding retract interview presuming enliven congratulating commend unimpeded sneering conjugal colouring enmity disrespect broader vent contemptuous solicitation plea befriend forfeited knight errantry rave ladylike flower fragrance desert verified calm timid timidity prepossessing wright partake housekeeping eligible wear conciliating punishment merited protection heavens dares ing limits licentiousness paradings exclusively decorated guidance patroness meditated guileless worthies affable condescending astonishing penury professedly midsummer pressingly exist refusing inflicted decree issued puzzle quits condemn reproachful faint gratify dictated pronouns thou plainest implanted awes treats comparative littleness irresolute buttons leather gaiters pressure reverie wittier calls appellation vulgarity consents weighs faith deed insulting detailing permanent accuse sensibilities controul alluded conversed triumphantly flowed apprehending dissipated dinners rout cakes ice tables candles unbroken packs waiters refreshments exposed pitiful stipulation bottom deciding eighth accounts begging stricken relates professional ninth immaterial reluctant unexpectedly summoned devote pearls wet saves drops count situated curse outlived imply concentrated quivering lip claimed mildest urbanity plants stockings remonstrances patiently persuasively cough fetches obviate insuperable needlessly grandmama's regularity regulated deciphered increases clerks improves capacity served prevails teaches teaching roundabout vindicated base aspersion desk specimen employing dryly fetching encountered expedition mails tongue's abstained engross repressed april candidates cousin bragge infinity wax schoolroom bragge's dispose july inexperience amuses unemployed offices flesh intellect fling abolition widely victims advertising mortifications entitle harp stipulate honourably gaily beau quaint disgusts selina's trimmed ornaments minority show trimming silver poplin reassembled judges mute finishing sleety finger prolong shrugged confers subdued audible fluently weighing observant overheard interruption precedent fellows southward sixty complained conservatory constitutions grant antagonist incredible nicety travels sheets precaution land interposed beheld disclaiming clifton stationary retired immense plantation desponding untowardly mend hymen's saffron robe dispel gloomy cheerfuller disappointments coughing mentioning genial cheerless prodigy implicitly injustice traits instigator wife's indolent helpless insolence inclines churchill'd mighty upstarts annoyance tupman encumbered west birmingham direful tupmans happens nearest resident worry comprised spoil physic preclude encumbrance witness gaieties goings heretofore unnoticed dissipation fare subsided entangled anticipating tranquil influenced stories fluttered belief group trusting randall's wilful declared weaker medicine richmond medical eminent appreciate indisputable manchester obstacle morrows lightened sanguinely arriving contents desire closely inspection confidantes heartedness modes privy councillors proprieties graciousness qualifying candidly puppyism puppies tolerated chained expeditious gestures movements excellently lighted aladdin's olive feet drop mat here's transformation complacently hairdresser dr hughes where's richard otway caroline arthur roasted coffee complimented patient styles praises drowned suspension tones disapprove frown interfered rub festivity standers classing players pretending rubbers bulky forms row ballroom criticising flirtation recordable events productive dancers sauntering sitters maintaining omit significant glances arranging glee cruel bounded hardened audibly goodnatured spoon tippet begs nailed quantities matting biscuits throws inquired partners forestall queen fricassee sweetbread asparagus dishes soup smells irresistibly reprobation unpardonable rudeness wounding enemies scold flatterers leads lazy asleep impertinence ruin satisfactions suddenly enabled harbour quickened freshened demands iron leaning faints bickerton shaded elms patch greensward gipsies scream steep bank cramp mount powerless terrified trampers courageous assailed clamorous impertinent tempting gang demanding conditioning insolent delayed scissors clinging adventure coldest steadiest linguist grammarian mathematician imaginist foresight groundwork chancing rescue mania partially fervour clung impelled passive concealment night's trembled indisposition invent operations dwindled tenaciously slightest recital seriousness reserves gifts treasures unfolded tunbridge ware lined softest cotton plaister penknife jumping saving relic pocket senseless tricks secretly pulling memorandum beer brewing treasuring burn remembrances gipsy undesignedly minute's debate dealing speed results veneration inexpressible henceforward obstacles kissed connivance sucklings defeat unison indiscretion void remembering cowper twilight dreamt dream dreamer dreaming premature heap absurdities dreams pop preceded suppressed circular pembroke meals alphabets quietness game pointing buried exultingly proclaimed cheek lain involvement disingenuousness vehicle deeper distrust blinded demure sedate excessive darting covert averted closing preconceived unexamined dusk sting imparted fruitless twentieth expressive vouchsafe essay arisen staggered prolonged wheres hows gaiety coolness fed speedy importation novelties stores interchange restricted eventually introductions hill picnic surprise acceded arrear severity goodwill secures pigeon pies lamb lame useable stagnation vexations strawberries ripening plainer strawberry beds cabbage carte blanche delegating preferment authorised humourist baskets pink gardens gather meat inspect anything spurn donkey donkeys purchasing dust dirt dusty borrow blunt specious lurking horrors upbraid credulity unasked dispensed bright mid al fresco listener sympathiser viewed building characteristic sheltered stretching washed stream timber rows avenues rooted covering rambling untainted unexceptionably indulged apparatus gathering sorts hautboy eatable hautboys scarce chili wood flavour cultivation gardeners delicious cherries currants refreshing overhear circles spheres ranks negative insisted morrow's pertinacity insensibly avenue limes river wall pillars erection disputable termination slope steeper abruptness curve verdure oppressive scorned appendages prosperity pastures spreading flocks blossom column smoke ascending agriculture mare repast ponds clover damps stirred engravings drawers medals cameos corals shells cabinets methodical plot lime wearied quitting endurance st mark's venice blameless seizure intolerable defined humanely hotter relented discomposed swisserland sketches tour poem climate prescribed penetrating hardships thwarted madeira par crosser crossness concluded final exclude acceptance punctuality officiating travelled union harmonise collation enlivened admission estimation flirted laying playfulness winning commanded overcame broken bounds management dating unanswerable lowering impudence accents swell mickleham dorking rouse presides swelled presiding carelessly brunt emphatically chaperon mutterings murmured unheard waives verse engages shan't mock conundrum reckon alphabet m em ma gratification explains acrostic vivacity rued confederates oppression educate undertake excepted referring overtake car pitch merriment depart questionable assorted unfeeling generosity honouring irksome blended prevalence liberties badly infant advancing motionless combined reproaching sullenness brutal fagged misspent abhorred gammon sweetest unmerited confiding scornful contrition penitence conferring deriving ridicule ushered escaping volubility twinkling dispersing lie knock ungenerous smallridge indefatigable smallridge's fatiguing bragges salary sums earned abdy's clerk ridden rheumatic gout joints john's ostler accumulation ostler's messenger tom astonish houseroom pensive meditations graver carries heightened instantaneous movement undecided dilatory unfinished diverting disagreeableness disturbing background hasten foreboded departed surviving goldsmith stoops disliked acquitted fancifulness mourning moralising hems commiseration earliest awe rested"
     ]
    },
    {
     "name": "stdout",
     "output_type": "stream",
     "text": [
      " benefited freed guidable refrained endanger maintenance communicating funeral windsor lavished testify verbal headaches deranged appetite pulmonary undertaken derived tremulous airing classed niece's diet nourishing distasteful arrowroot despatched wandering peremptorily inconsistency reprove unaccountable hush sacred relate undesirable agony inspired otways abhor resuming averting conversations believing utterance protestation darling persevering placidity misunderstandings expressly impropriety integrity adherence transaction indelicacy extenuations excusable system secresy vault undue survive hypocrisy deceit espionage league duped comparing intreat deviation their's world's condolence briskness palliate tormenting constituted deepest dupe misconceptions prophetically disservice guilty risking insufficient insignificance rival repulsed rack storeroom disengage elevation engrossing communicate token recently disclosure unable owning perplexed privately cautioned stoutly misunderstood assert protecting modestly withdrawn silently meditating arrow indelicate irrational demerits enquired forfeit counsels tremblings unsteady threatening perplexing inward delivered feebleness tautology corroborating latterly closest agreement unsuspected relation multiplied undiscerned occurrences enquiring alluding bitter intentionally worship footsteps spontaneous amidst rushed deceptions practising posture weakly imposed imposing involuntary latter's institute delusion sorrowfully threadbare stale debasement sneers inconveniences captivated inconsistent incongruous sequel stoop worldly inexpressibly wilfully impartiality overrating incompatible wretchedly frightfully decisively confidential waking elect essential engagement's rapturous affecting converse effusions pent energetic uttered attestation consented misconduct expiation contributed inquietudes captious irritable unanswered closer foolishly harboured unpardonably levity carelessness surrounding enemy stabbed stormy shrubs despoiling hartfield's erroneous deserted forebodings dispelled brightened ruined tie losses seconds loneliness reign smell serenity intimation unquestionably do's constrained pained doomed scoundrel steadier rewarded clemency sets ingeniously underrated calculation vouches disinterestedness purity mortals meets gains weary envied avert startled unsaid confide reconcile indecision alternative ungraciously contemplation refer awakened blamed lectured velocity groundless discouragement attendant render sublimity vouchsafing flight astray despaired crushed disguised relenting soothe enchanting enlightened witnessing differing inferiorities brilliancy stayed gladness keen faultless villain daring respite western plotting breast lungs impending articles contentment sleepless wept sin divested streets shops stolen literally figuratively reinstate deprecated waded packet forwarding enclosed preface nervousness ungenial east w rises hazards discuss caviller brick casements creation bursts obtaining correspondence inheriting inheritance lands absented reprehension excites dropped indicated goodhumoured expiration penetrated extenuation sinned acquittal brotherly queernesses designedly suppress insane encroach unseasonableness 26th ult shrunk retrospect shamefully blameable disapproved dissatisfaction consistent objectionable particularity consenting useless officious filled hatred extended bandied repentance dissolved multiplicity locked stating adding misconstrued subordinate conveyance requested stared accordant descriptive threaten raved wan dictate undoubted subscribe foretold another's impartial distrusted disapprobation fathomed intrigue finesse pervert boyish contend suffers thanker tens inconsideration thoughtlessness acquire attacking inadmissibility transplantation evinced sacrificing unprovided expectant saucy detecting contemplated outweigh periods cheerlessness involve loser worshipped reproaches usage bordering desirableness stroke resorting tooth dentist haunted enduring appointed agitating similarity unsuccessfully checked expedient compress congratulatory accounted penetrate fold purple gold reticule nods admits mum an't minister managed palpable physician cloud commonly whispers magistrates overseers churchwardens crayons applicants bar consultation denoted smallness patronage solidity insinuate greeted dutiful sample broiling fields woods protesting indignity eccentric harry sideboard receipt william's aggression wearying collectedly disgusted owe artificial sons sports freaks fancies la baronne d'almane comtesse d'ostalis madame de genlis adelaide theodore infancy bitterness spoilt endeavours lecture dint thirteen anna fits terseness k n womanly follies attribute corresponded unmentioned enters complimenter differ oppressed unprepared bound affectionately marriages secondly feigning singularly renounced disposing impediment shifted knee outgrown familiarise sagacity disagreements habitation daringly abused agitate composing flushed intends recourse workbasket chambers astley's coach overflowing broadly respectability misunderstand shows cattle drills ox emphasis brightest utility james's disappearing lessons humility circumspection thankfulness resolutions doleful heartfelt disguise equivocation hateful gayest conniving figures stays embarrassing forgiving doat forbade transgression northward accession archly dog tricking mirth readier dispositions bids gesture inclining jewels ornament infant's commended disordered partly obtrude entertainingly regarding completion xix intervals unbiased presumptuous fullest unqualified unintelligible tradesman decent vouch stain unbleached nobility liberally created gradual impair clergyman altar intermediate fortnight's seaside sounded hopeless resignation acquiesced befriended illumination poultry robbed turkeys pilfering housebreaking protected weddings detailed satin veils stare deficiencies predictions band finis "
     ]
    }
   ],
   "source": [
    "def subtract(d1, d2):\n",
    "    res = dict()\n",
    "    for key in d1:\n",
    "        if key not in d2:\n",
    "            res[key] = None\n",
    "    return res\n",
    "words = process_file('words.txt')\n",
    "diff = subtract(hist, words)\n",
    "print(\"Words in the book that aren't in the word list:\")\n",
    "for word in diff:\n",
    "    print(word,end=' ')\n"
   ]
  },
  {
   "cell_type": "code",
   "execution_count": 32,
   "metadata": {},
   "outputs": [
    {
     "data": {
      "text/plain": [
       "(1, 'earliest')"
      ]
     },
     "execution_count": 32,
     "metadata": {},
     "output_type": "execute_result"
    }
   ],
   "source": [
    "def random_word(h):\n",
    "    t = []\n",
    "    for word, freq in h.items():\n",
    "        t.extend([word] * freq)\n",
    "return random.choice(t)\n",
    "\n"
   ]
  },
  {
   "cell_type": "code",
   "execution_count": 33,
   "metadata": {},
   "outputs": [],
   "source": [
    "def shift(prefix, word):\n",
    "    return prefix[1:] + (word,)"
   ]
  },
  {
   "cell_type": "code",
   "execution_count": 34,
   "metadata": {},
   "outputs": [],
   "source": [
    "fout = open('output.txt', 'w')"
   ]
  },
  {
   "cell_type": "code",
   "execution_count": 35,
   "metadata": {},
   "outputs": [],
   "source": [
    "fout = open('output.txt', 'w')"
   ]
  },
  {
   "cell_type": "code",
   "execution_count": 36,
   "metadata": {},
   "outputs": [
    {
     "data": {
      "text/plain": [
       "24"
      ]
     },
     "execution_count": 36,
     "metadata": {},
     "output_type": "execute_result"
    }
   ],
   "source": [
    "line1 = \"This here's the wattle,\\n\"\n",
    "fout.write(line1)\n"
   ]
  },
  {
   "cell_type": "code",
   "execution_count": 37,
   "metadata": {},
   "outputs": [
    {
     "data": {
      "text/plain": [
       "24"
      ]
     },
     "execution_count": 37,
     "metadata": {},
     "output_type": "execute_result"
    }
   ],
   "source": [
    "line2 = \"the emblem of our land.\\n\"\n",
    "fout.write(line2)"
   ]
  },
  {
   "cell_type": "code",
   "execution_count": 41,
   "metadata": {},
   "outputs": [],
   "source": [
    "fout.close()"
   ]
  },
  {
   "cell_type": "code",
   "execution_count": 40,
   "metadata": {},
   "outputs": [
    {
     "data": {
      "text/plain": [
       "2"
      ]
     },
     "execution_count": 40,
     "metadata": {},
     "output_type": "execute_result"
    }
   ],
   "source": [
    "fout = open('output.txt', 'w')\n",
    "x = 52\n",
    "fout.write(str(x))"
   ]
  },
  {
   "cell_type": "code",
   "execution_count": 42,
   "metadata": {},
   "outputs": [
    {
     "data": {
      "text/plain": [
       "'42'"
      ]
     },
     "execution_count": 42,
     "metadata": {},
     "output_type": "execute_result"
    }
   ],
   "source": [
    "fout = open('output.txt', 'w')\n",
    "camels = 42\n",
    "'%d' % camels"
   ]
  },
  {
   "cell_type": "code",
   "execution_count": 43,
   "metadata": {},
   "outputs": [
    {
     "data": {
      "text/plain": [
       "'I have spotted 42 camels.'"
      ]
     },
     "execution_count": 43,
     "metadata": {},
     "output_type": "execute_result"
    }
   ],
   "source": [
    "'I have spotted %d camels.' % camels"
   ]
  },
  {
   "cell_type": "code",
   "execution_count": 44,
   "metadata": {},
   "outputs": [
    {
     "data": {
      "text/plain": [
       "'In 3 years I have spotted 0.1 camels.'"
      ]
     },
     "execution_count": 44,
     "metadata": {},
     "output_type": "execute_result"
    }
   ],
   "source": [
    "'In %d years I have spotted %g %s.' % (3, 0.1, 'camels')"
   ]
  },
  {
   "cell_type": "code",
   "execution_count": 45,
   "metadata": {},
   "outputs": [
    {
     "ename": "TypeError",
     "evalue": "not enough arguments for format string",
     "output_type": "error",
     "traceback": [
      "\u001b[1;31m---------------------------------------------------------------------------\u001b[0m",
      "\u001b[1;31mTypeError\u001b[0m                                 Traceback (most recent call last)",
      "\u001b[1;32m<ipython-input-45-4a97654d37a9>\u001b[0m in \u001b[0;36m<module>\u001b[1;34m\u001b[0m\n\u001b[1;32m----> 1\u001b[1;33m \u001b[1;34m'%d %d %d'\u001b[0m \u001b[1;33m%\u001b[0m \u001b[1;33m(\u001b[0m\u001b[1;36m1\u001b[0m\u001b[1;33m,\u001b[0m \u001b[1;36m2\u001b[0m\u001b[1;33m)\u001b[0m\u001b[1;33m\u001b[0m\u001b[1;33m\u001b[0m\u001b[0m\n\u001b[0m",
      "\u001b[1;31mTypeError\u001b[0m: not enough arguments for format string"
     ]
    }
   ],
   "source": [
    "'%d %d %d' % (1, 2)\n"
   ]
  },
  {
   "cell_type": "code",
   "execution_count": 46,
   "metadata": {},
   "outputs": [
    {
     "ename": "TypeError",
     "evalue": "%d format: a number is required, not str",
     "output_type": "error",
     "traceback": [
      "\u001b[1;31m---------------------------------------------------------------------------\u001b[0m",
      "\u001b[1;31mTypeError\u001b[0m                                 Traceback (most recent call last)",
      "\u001b[1;32m<ipython-input-46-f60b471c8eff>\u001b[0m in \u001b[0;36m<module>\u001b[1;34m\u001b[0m\n\u001b[1;32m----> 1\u001b[1;33m \u001b[1;34m'%d'\u001b[0m \u001b[1;33m%\u001b[0m \u001b[1;34m'dollars'\u001b[0m\u001b[1;33m\u001b[0m\u001b[1;33m\u001b[0m\u001b[0m\n\u001b[0m",
      "\u001b[1;31mTypeError\u001b[0m: %d format: a number is required, not str"
     ]
    }
   ],
   "source": [
    "'%d' % 'dollars'"
   ]
  },
  {
   "cell_type": "code",
   "execution_count": 47,
   "metadata": {},
   "outputs": [
    {
     "data": {
      "text/plain": [
       "'C:\\\\Users\\\\PC User\\\\Desktop\\\\5731'"
      ]
     },
     "execution_count": 47,
     "metadata": {},
     "output_type": "execute_result"
    }
   ],
   "source": [
    "import os\n",
    "cwd = os.getcwd()\n",
    "cwd\n"
   ]
  },
  {
   "cell_type": "code",
   "execution_count": 48,
   "metadata": {},
   "outputs": [
    {
     "ename": "FileNotFoundError",
     "evalue": "[Errno 2] No such file or directory: 'bad_file'",
     "output_type": "error",
     "traceback": [
      "\u001b[1;31m---------------------------------------------------------------------------\u001b[0m",
      "\u001b[1;31mFileNotFoundError\u001b[0m                         Traceback (most recent call last)",
      "\u001b[1;32m<ipython-input-48-a7d7d7ad396b>\u001b[0m in \u001b[0;36m<module>\u001b[1;34m\u001b[0m\n\u001b[1;32m----> 1\u001b[1;33m \u001b[0mfin\u001b[0m \u001b[1;33m=\u001b[0m \u001b[0mopen\u001b[0m\u001b[1;33m(\u001b[0m\u001b[1;34m'bad_file'\u001b[0m\u001b[1;33m)\u001b[0m\u001b[1;33m\u001b[0m\u001b[1;33m\u001b[0m\u001b[0m\n\u001b[0m",
      "\u001b[1;31mFileNotFoundError\u001b[0m: [Errno 2] No such file or directory: 'bad_file'"
     ]
    }
   ],
   "source": [
    "fin = open('bad_file')"
   ]
  },
  {
   "cell_type": "code",
   "execution_count": 49,
   "metadata": {},
   "outputs": [
    {
     "ename": "FileNotFoundError",
     "evalue": "[Errno 2] No such file or directory: '/etc/passwd'",
     "output_type": "error",
     "traceback": [
      "\u001b[1;31m---------------------------------------------------------------------------\u001b[0m",
      "\u001b[1;31mFileNotFoundError\u001b[0m                         Traceback (most recent call last)",
      "\u001b[1;32m<ipython-input-49-8a9adb191927>\u001b[0m in \u001b[0;36m<module>\u001b[1;34m\u001b[0m\n\u001b[1;32m----> 1\u001b[1;33m \u001b[0mfout\u001b[0m \u001b[1;33m=\u001b[0m \u001b[0mopen\u001b[0m\u001b[1;33m(\u001b[0m\u001b[1;34m'/etc/passwd'\u001b[0m\u001b[1;33m,\u001b[0m \u001b[1;34m'w'\u001b[0m\u001b[1;33m)\u001b[0m\u001b[1;33m\u001b[0m\u001b[1;33m\u001b[0m\u001b[0m\n\u001b[0m",
      "\u001b[1;31mFileNotFoundError\u001b[0m: [Errno 2] No such file or directory: '/etc/passwd'"
     ]
    }
   ],
   "source": [
    " fout = open('/etc/passwd', 'w')"
   ]
  },
  {
   "cell_type": "code",
   "execution_count": 50,
   "metadata": {},
   "outputs": [
    {
     "name": "stdout",
     "output_type": "stream",
     "text": [
      "Something went wrong.\n"
     ]
    }
   ],
   "source": [
    "try:\n",
    "    fin = open('bad_file')\n",
    "except:\n",
    "    print('Something went wrong.')"
   ]
  },
  {
   "cell_type": "code",
   "execution_count": 51,
   "metadata": {},
   "outputs": [],
   "source": [
    "import dbm\n",
    "db = dbm.open('captions', 'c')"
   ]
  },
  {
   "cell_type": "code",
   "execution_count": 52,
   "metadata": {},
   "outputs": [],
   "source": [
    " db['cleese.png'] = 'Photo of John Cleese.'"
   ]
  },
  {
   "cell_type": "code",
   "execution_count": 53,
   "metadata": {},
   "outputs": [
    {
     "data": {
      "text/plain": [
       "b'Photo of John Cleese.'"
      ]
     },
     "execution_count": 53,
     "metadata": {},
     "output_type": "execute_result"
    }
   ],
   "source": [
    "db['cleese.png']"
   ]
  },
  {
   "cell_type": "code",
   "execution_count": 54,
   "metadata": {},
   "outputs": [
    {
     "name": "stdout",
     "output_type": "stream",
     "text": [
      "b'cleese.png' b'Photo of John Cleese.'\n"
     ]
    }
   ],
   "source": [
    "for key in db:\n",
    "    print(key, db[key])"
   ]
  },
  {
   "cell_type": "code",
   "execution_count": 55,
   "metadata": {},
   "outputs": [],
   "source": [
    "db.close()"
   ]
  },
  {
   "cell_type": "code",
   "execution_count": 56,
   "metadata": {},
   "outputs": [
    {
     "data": {
      "text/plain": [
       "b'\\x80\\x03]q\\x00(K\\x01K\\x02K\\x03e.'"
      ]
     },
     "execution_count": 56,
     "metadata": {},
     "output_type": "execute_result"
    }
   ],
   "source": [
    "import pickle\n",
    "t = [1, 2, 3]\n",
    "pickle.dumps(t)"
   ]
  },
  {
   "cell_type": "code",
   "execution_count": 57,
   "metadata": {},
   "outputs": [
    {
     "data": {
      "text/plain": [
       "[1, 2, 3]"
      ]
     },
     "execution_count": 57,
     "metadata": {},
     "output_type": "execute_result"
    }
   ],
   "source": [
    "t1 = [1, 2, 3]\n",
    "s = pickle.dumps(t1)\n",
    "t2 = pickle.loads(s)\n",
    "t2"
   ]
  },
  {
   "cell_type": "code",
   "execution_count": 58,
   "metadata": {},
   "outputs": [
    {
     "data": {
      "text/plain": [
       "True"
      ]
     },
     "execution_count": 58,
     "metadata": {},
     "output_type": "execute_result"
    }
   ],
   "source": [
    " t1 == t2"
   ]
  },
  {
   "cell_type": "code",
   "execution_count": 59,
   "metadata": {},
   "outputs": [
    {
     "data": {
      "text/plain": [
       "False"
      ]
     },
     "execution_count": 59,
     "metadata": {},
     "output_type": "execute_result"
    }
   ],
   "source": [
    "t1 is t2"
   ]
  },
  {
   "cell_type": "code",
   "execution_count": 66,
   "metadata": {},
   "outputs": [
    {
     "name": "stdout",
     "output_type": "stream",
     "text": [
      "1\n"
     ]
    }
   ],
   "source": [
    "cmd = 'ls -l'\n",
    "fp = os.popen(cmd)\n",
    "res = fp.read()\n",
    "stat = fp.close()\n",
    "print(stat)\n"
   ]
  },
  {
   "cell_type": "code",
   "execution_count": 69,
   "metadata": {},
   "outputs": [
    {
     "name": "stdout",
     "output_type": "stream",
     "text": [
      "\n"
     ]
    }
   ],
   "source": [
    "filename = 'word.tex'\n",
    "cmd = 'md5sum ' + filename\n",
    "fp = os.popen(cmd)\n",
    "res = fp.read()\n",
    "stat = fp.close()\n",
    "print(res)"
   ]
  },
  {
   "cell_type": "code",
   "execution_count": 70,
   "metadata": {},
   "outputs": [
    {
     "name": "stdout",
     "output_type": "stream",
     "text": [
      "1\n"
     ]
    }
   ],
   "source": [
    "print(stat)"
   ]
  },
  {
   "cell_type": "code",
   "execution_count": 72,
   "metadata": {},
   "outputs": [
    {
     "ename": "ModuleNotFoundError",
     "evalue": "No module named 'wc'",
     "output_type": "error",
     "traceback": [
      "\u001b[1;31m---------------------------------------------------------------------------\u001b[0m",
      "\u001b[1;31mModuleNotFoundError\u001b[0m                       Traceback (most recent call last)",
      "\u001b[1;32m<ipython-input-72-c02041529115>\u001b[0m in \u001b[0;36m<module>\u001b[1;34m\u001b[0m\n\u001b[1;32m----> 1\u001b[1;33m \u001b[1;32mimport\u001b[0m \u001b[0mwc\u001b[0m\u001b[1;33m\u001b[0m\u001b[1;33m\u001b[0m\u001b[0m\n\u001b[0m\u001b[0;32m      2\u001b[0m \u001b[1;32mdef\u001b[0m \u001b[0mlinecount\u001b[0m\u001b[1;33m(\u001b[0m\u001b[0mfilename\u001b[0m\u001b[1;33m)\u001b[0m\u001b[1;33m:\u001b[0m\u001b[1;33m\u001b[0m\u001b[1;33m\u001b[0m\u001b[0m\n\u001b[0;32m      3\u001b[0m     \u001b[0mcount\u001b[0m \u001b[1;33m=\u001b[0m \u001b[1;36m0\u001b[0m\u001b[1;33m\u001b[0m\u001b[1;33m\u001b[0m\u001b[0m\n\u001b[0;32m      4\u001b[0m     \u001b[1;32mfor\u001b[0m \u001b[0mline\u001b[0m \u001b[1;32min\u001b[0m \u001b[0mopen\u001b[0m\u001b[1;33m(\u001b[0m\u001b[0mfilename\u001b[0m\u001b[1;33m)\u001b[0m\u001b[1;33m:\u001b[0m\u001b[1;33m\u001b[0m\u001b[1;33m\u001b[0m\u001b[0m\n\u001b[0;32m      5\u001b[0m         \u001b[0mcount\u001b[0m \u001b[1;33m+=\u001b[0m \u001b[1;36m1\u001b[0m\u001b[1;33m\u001b[0m\u001b[1;33m\u001b[0m\u001b[0m\n",
      "\u001b[1;31mModuleNotFoundError\u001b[0m: No module named 'wc'"
     ]
    }
   ],
   "source": [
    "import wc\n",
    "def linecount(filename):\n",
    "    count = 0\n",
    "    for line in open(filename):\n",
    "        count += 1\n",
    "    return count\n",
    "print(linecount('wc.py'))\n"
   ]
  },
  {
   "cell_type": "code",
   "execution_count": 78,
   "metadata": {},
   "outputs": [
    {
     "data": {
      "text/plain": [
       "__main__.Point"
      ]
     },
     "execution_count": 78,
     "metadata": {},
     "output_type": "execute_result"
    }
   ],
   "source": [
    "class Point:\n",
    "    \"\"\"Represents a point in 2-D space.\"\"\"\n",
    "    \n",
    "Point\n"
   ]
  },
  {
   "cell_type": "code",
   "execution_count": 79,
   "metadata": {},
   "outputs": [
    {
     "data": {
      "text/plain": [
       "<__main__.Point at 0x15a2b832978>"
      ]
     },
     "execution_count": 79,
     "metadata": {},
     "output_type": "execute_result"
    }
   ],
   "source": [
    "blank = Point()\n",
    "blank"
   ]
  },
  {
   "cell_type": "code",
   "execution_count": 80,
   "metadata": {},
   "outputs": [],
   "source": [
    "blank.x = 3.0\n",
    "blank.y = 4.0"
   ]
  },
  {
   "cell_type": "code",
   "execution_count": 81,
   "metadata": {},
   "outputs": [
    {
     "data": {
      "text/plain": [
       "4.0"
      ]
     },
     "execution_count": 81,
     "metadata": {},
     "output_type": "execute_result"
    }
   ],
   "source": [
    "blank.y"
   ]
  },
  {
   "cell_type": "code",
   "execution_count": 82,
   "metadata": {},
   "outputs": [
    {
     "data": {
      "text/plain": [
       "'(3, 4)'"
      ]
     },
     "execution_count": 82,
     "metadata": {},
     "output_type": "execute_result"
    }
   ],
   "source": [
    "'(%g, %g)' % (blank.x, blank.y)"
   ]
  },
  {
   "cell_type": "code",
   "execution_count": 84,
   "metadata": {},
   "outputs": [
    {
     "data": {
      "text/plain": [
       "5.0"
      ]
     },
     "execution_count": 84,
     "metadata": {},
     "output_type": "execute_result"
    }
   ],
   "source": [
    "import math\n",
    "distance = math.sqrt(blank.x**2 + blank.y**2)\n",
    "distance"
   ]
  },
  {
   "cell_type": "code",
   "execution_count": 86,
   "metadata": {},
   "outputs": [
    {
     "name": "stdout",
     "output_type": "stream",
     "text": [
      "(3, 4)\n"
     ]
    }
   ],
   "source": [
    "def print_point(p):\n",
    "    print('(%g, %g)' % (p.x, p.y))\n",
    "\n",
    "print_point(blank)"
   ]
  },
  {
   "cell_type": "code",
   "execution_count": 87,
   "metadata": {},
   "outputs": [
    {
     "data": {
      "text/plain": [
       "__main__.Rectangle"
      ]
     },
     "execution_count": 87,
     "metadata": {},
     "output_type": "execute_result"
    }
   ],
   "source": [
    "class Rectangle:\n",
    "    \"\"\"Represents a rectangle.\n",
    "    attributes: width, height, corner.\n",
    "    \"\"\"\n",
    "Rectangle"
   ]
  },
  {
   "cell_type": "code",
   "execution_count": 88,
   "metadata": {},
   "outputs": [],
   "source": [
    "box = Rectangle()\n",
    "box.width = 100.0\n",
    "box.height = 200.0\n",
    "box.corner = Point()\n",
    "box.corner.x = 0.0\n",
    "box.corner.y = 0.0"
   ]
  },
  {
   "cell_type": "code",
   "execution_count": 90,
   "metadata": {},
   "outputs": [
    {
     "name": "stdout",
     "output_type": "stream",
     "text": [
      "(50, 100)\n"
     ]
    }
   ],
   "source": [
    "def find_center(rect):\n",
    "    p = Point()\n",
    "    p.x = rect.corner.x + rect.width/2\n",
    "    p.y = rect.corner.y + rect.height/2\n",
    "    return p\n",
    "center = find_center(box)\n",
    "print_point(center)"
   ]
  },
  {
   "cell_type": "code",
   "execution_count": 91,
   "metadata": {},
   "outputs": [],
   "source": [
    "box.width = box.width + 50\n",
    "box.height = box.height + 100"
   ]
  },
  {
   "cell_type": "code",
   "execution_count": 92,
   "metadata": {},
   "outputs": [
    {
     "data": {
      "text/plain": [
       "(150.0, 300.0)"
      ]
     },
     "execution_count": 92,
     "metadata": {},
     "output_type": "execute_result"
    }
   ],
   "source": [
    "def grow_rectangle(rect, dwidth, dheight):\n",
    "    rect.width += dwidth\n",
    "    rect.height += dheight\n",
    "box.width, box.height"
   ]
  },
  {
   "cell_type": "code",
   "execution_count": 93,
   "metadata": {},
   "outputs": [
    {
     "data": {
      "text/plain": [
       "(200.0, 400.0)"
      ]
     },
     "execution_count": 93,
     "metadata": {},
     "output_type": "execute_result"
    }
   ],
   "source": [
    "grow_rectangle(box, 50, 100)\n",
    "box.width, box.height"
   ]
  },
  {
   "cell_type": "code",
   "execution_count": 94,
   "metadata": {},
   "outputs": [
    {
     "name": "stdout",
     "output_type": "stream",
     "text": [
      "(3, 4)\n",
      "(3, 4)\n"
     ]
    },
    {
     "data": {
      "text/plain": [
       "False"
      ]
     },
     "execution_count": 94,
     "metadata": {},
     "output_type": "execute_result"
    }
   ],
   "source": [
    "import copy\n",
    "p1 = Point()\n",
    "p1.x = 3.0\n",
    "p1.y = 4.0 \n",
    "p2 = copy.copy(p1)\n",
    "print_point(p1)\n",
    "print_point(p2)\n",
    "p1 is p2\n",
    "    "
   ]
  },
  {
   "cell_type": "code",
   "execution_count": 95,
   "metadata": {},
   "outputs": [
    {
     "data": {
      "text/plain": [
       "False"
      ]
     },
     "execution_count": 95,
     "metadata": {},
     "output_type": "execute_result"
    }
   ],
   "source": [
    "p1 == p2\n"
   ]
  },
  {
   "cell_type": "code",
   "execution_count": 97,
   "metadata": {},
   "outputs": [
    {
     "data": {
      "text/plain": [
       "False"
      ]
     },
     "execution_count": 97,
     "metadata": {},
     "output_type": "execute_result"
    }
   ],
   "source": [
    "box2 = copy.copy(box)\n",
    "box2 is box"
   ]
  },
  {
   "cell_type": "code",
   "execution_count": 98,
   "metadata": {},
   "outputs": [
    {
     "data": {
      "text/plain": [
       "True"
      ]
     },
     "execution_count": 98,
     "metadata": {},
     "output_type": "execute_result"
    }
   ],
   "source": [
    " box2.corner is box.corner"
   ]
  },
  {
   "cell_type": "code",
   "execution_count": 99,
   "metadata": {},
   "outputs": [
    {
     "data": {
      "text/plain": [
       "False"
      ]
     },
     "execution_count": 99,
     "metadata": {},
     "output_type": "execute_result"
    }
   ],
   "source": [
    "box3 = copy.deepcopy(box)\n",
    "box3 is box"
   ]
  },
  {
   "cell_type": "code",
   "execution_count": 125,
   "metadata": {},
   "outputs": [],
   "source": [
    "from __future__ import print_function, division\n",
    "class Time:\n",
    "    \"\"\"Represents the time of day.\n",
    "    attributes: hour, minute, second\n",
    "    \"\"\"\n",
    "Time\n",
    "time = Time()\n",
    "time.hour = 11\n",
    "time.minute = 59\n",
    "time.second = 30\n"
   ]
  },
  {
   "cell_type": "code",
   "execution_count": 126,
   "metadata": {},
   "outputs": [],
   "source": [
    "def print_time(t):\n",
    "    \"\"\"Prints a string representation of the time.\n",
    "\n",
    "    t: Time object\n",
    "    \"\"\"\n",
    "    print('%.2d:%.2d:%.2d' % (t.hour, t.minute, t.second))"
   ]
  },
  {
   "cell_type": "code",
   "execution_count": 127,
   "metadata": {},
   "outputs": [],
   "source": [
    "def add_time(t1, t2):\n",
    "    sum = Time()\n",
    "    sum.hour = t1.hour + t2.hour\n",
    "    sum.minute = t1.minute + t2.minute\n",
    "    sum.second = t1.second + t2.second\n",
    "    return sum"
   ]
  },
  {
   "cell_type": "code",
   "execution_count": 120,
   "metadata": {},
   "outputs": [
    {
     "name": "stdout",
     "output_type": "stream",
     "text": [
      "10:80:00\n"
     ]
    }
   ],
   "source": [
    "start = Time()\n",
    "start.hour = 9\n",
    "start.minute = 45\n",
    "start.second = 0\n",
    "duration = Time()\n",
    "duration.hour = 1\n",
    "duration.minute = 35\n",
    "duration.second = 0\n",
    "done = add_time(start, duration)\n",
    "print_time(done)\n"
   ]
  },
  {
   "cell_type": "code",
   "execution_count": 128,
   "metadata": {},
   "outputs": [],
   "source": [
    "def add_time(t1, t2):\n",
    "    sum = Time()\n",
    "    sum.hour = t1.hour + t2.hour\n",
    "    sum.minute = t1.minute + t2.minute\n",
    "    sum.second = t1.second + t2.second\n",
    "    if sum.second >= 60:\n",
    "        sum.second -= 60\n",
    "        sum.minute += 1\n",
    "    if sum.minute >= 60:\n",
    "        sum.minute -= 60\n",
    "        sum.hour += 1\n",
    "    return sum"
   ]
  },
  {
   "cell_type": "code",
   "execution_count": 176,
   "metadata": {},
   "outputs": [],
   "source": [
    "def time_to_int(time):\n",
    "    minutes = time.hour * 60 + time.minute\n",
    "    seconds = minutes * 60 + time.second\n",
    "    return seconds\n",
    "\n"
   ]
  },
  {
   "cell_type": "code",
   "execution_count": 174,
   "metadata": {},
   "outputs": [
    {
     "data": {
      "text/plain": [
       "<__main__.Time at 0x15a2bb877f0>"
      ]
     },
     "execution_count": 174,
     "metadata": {},
     "output_type": "execute_result"
    }
   ],
   "source": [
    "def int_to_time(seconds):\n",
    "    time = Time()\n",
    "    minutes, time.second = divmod(seconds, 60)\n",
    "    time.hour, time.minute = divmod(minutes, 60)\n",
    "    return time\n",
    "int_to_time(450)"
   ]
  },
  {
   "cell_type": "code",
   "execution_count": null,
   "metadata": {},
   "outputs": [],
   "source": [
    "def add_time(t1, t2):\n",
    "    seconds = time_to_int(t1) + time_to_int(t2)\n",
    "    return int_to_time(seconds)"
   ]
  },
  {
   "cell_type": "code",
   "execution_count": 106,
   "metadata": {},
   "outputs": [
    {
     "name": "stdout",
     "output_type": "stream",
     "text": [
      "09:45:00\n"
     ]
    }
   ],
   "source": [
    "class Time:\n",
    "    \"\"\"Represents the time of day.\"\"\"\n",
    "def print_time(time):\n",
    "    print('%.2d:%.2d:%.2d' % (time.hour, time.minute, time.second))\n",
    "start = Time()\n",
    "start.hour = 9\n",
    "start.minute = 45\n",
    "start.second = 00\n",
    "print_time(start)\n",
    "def increment(self, seconds):\n",
    "    seconds += self.time_to_int()\n",
    "    return int_to_time(seconds)"
   ]
  },
  {
   "cell_type": "code",
   "execution_count": 180,
   "metadata": {},
   "outputs": [
    {
     "name": "stdout",
     "output_type": "stream",
     "text": [
      "09:45:00\n"
     ]
    }
   ],
   "source": [
    "class Time:\n",
    "    def print_time(self):\n",
    "        print('%.2d:%.2d:%.2d' % (self.hour, self.minute, self.second))\n",
    "    def increment(self, seconds):\n",
    "        seconds += self.time_to_int()\n",
    "        return int_to_time(seconds)    \n",
    "start.print_time()"
   ]
  },
  {
   "cell_type": "code",
   "execution_count": 181,
   "metadata": {},
   "outputs": [
    {
     "ename": "NameError",
     "evalue": "name 'end' is not defined",
     "output_type": "error",
     "traceback": [
      "\u001b[1;31m---------------------------------------------------------------------------\u001b[0m",
      "\u001b[1;31mNameError\u001b[0m                                 Traceback (most recent call last)",
      "\u001b[1;32m<ipython-input-181-9f409e069a21>\u001b[0m in \u001b[0;36m<module>\u001b[1;34m\u001b[0m\n\u001b[0;32m      4\u001b[0m     \u001b[1;32mdef\u001b[0m \u001b[0mis_after\u001b[0m\u001b[1;33m(\u001b[0m\u001b[0mself\u001b[0m\u001b[1;33m,\u001b[0m \u001b[0mother\u001b[0m\u001b[1;33m)\u001b[0m\u001b[1;33m:\u001b[0m\u001b[1;33m\u001b[0m\u001b[1;33m\u001b[0m\u001b[0m\n\u001b[0;32m      5\u001b[0m         \u001b[1;32mreturn\u001b[0m \u001b[0mself\u001b[0m\u001b[1;33m.\u001b[0m\u001b[0mtime_to_int\u001b[0m\u001b[1;33m(\u001b[0m\u001b[1;33m)\u001b[0m \u001b[1;33m>\u001b[0m \u001b[0mother\u001b[0m\u001b[1;33m.\u001b[0m\u001b[0mtime_to_int\u001b[0m\u001b[1;33m(\u001b[0m\u001b[1;33m)\u001b[0m\u001b[1;33m\u001b[0m\u001b[1;33m\u001b[0m\u001b[0m\n\u001b[1;32m----> 6\u001b[1;33m \u001b[0mend\u001b[0m\u001b[1;33m.\u001b[0m\u001b[0mis_after\u001b[0m\u001b[1;33m(\u001b[0m\u001b[0mstart\u001b[0m\u001b[1;33m)\u001b[0m\u001b[1;33m\u001b[0m\u001b[1;33m\u001b[0m\u001b[0m\n\u001b[0m",
      "\u001b[1;31mNameError\u001b[0m: name 'end' is not defined"
     ]
    }
   ],
   "source": [
    "class Time:\n",
    "    def print_time(self):\n",
    "        print('%.2d:%.2d:%.2d' % (self.hour, self.minute, self.second))\n",
    "    def is_after(self, other):\n",
    "        return self.time_to_int() > other.time_to_int()\n",
    "end.is_after(start)"
   ]
  },
  {
   "cell_type": "code",
   "execution_count": 182,
   "metadata": {},
   "outputs": [
    {
     "name": "stdout",
     "output_type": "stream",
     "text": [
      "00:00:00\n"
     ]
    }
   ],
   "source": [
    "class Time:\n",
    "    def print_time(self):\n",
    "        print('%.2d:%.2d:%.2d' % (self.hour, self.minute, self.second))\n",
    "    def __init__(self, hour=0, minute=0, second=0):\n",
    "        self.hour = hour\n",
    "        self.minute = minute\n",
    "        self.second = second\n",
    "time = Time()\n",
    "time.print_time()"
   ]
  },
  {
   "cell_type": "code",
   "execution_count": 188,
   "metadata": {},
   "outputs": [
    {
     "ename": "TypeError",
     "evalue": "Time() takes no arguments",
     "output_type": "error",
     "traceback": [
      "\u001b[1;31m---------------------------------------------------------------------------\u001b[0m",
      "\u001b[1;31mTypeError\u001b[0m                                 Traceback (most recent call last)",
      "\u001b[1;32m<ipython-input-188-496a8040f980>\u001b[0m in \u001b[0;36m<module>\u001b[1;34m\u001b[0m\n\u001b[0;32m      4\u001b[0m     \u001b[1;32mdef\u001b[0m \u001b[0m__str__\u001b[0m\u001b[1;33m(\u001b[0m\u001b[0mself\u001b[0m\u001b[1;33m)\u001b[0m\u001b[1;33m:\u001b[0m\u001b[1;33m\u001b[0m\u001b[1;33m\u001b[0m\u001b[0m\n\u001b[0;32m      5\u001b[0m         \u001b[1;32mreturn\u001b[0m \u001b[1;34m'%.2d:%.2d:%.2d'\u001b[0m \u001b[1;33m%\u001b[0m \u001b[1;33m(\u001b[0m\u001b[0mself\u001b[0m\u001b[1;33m.\u001b[0m\u001b[0mhour\u001b[0m\u001b[1;33m,\u001b[0m \u001b[0mself\u001b[0m\u001b[1;33m.\u001b[0m\u001b[0mminute\u001b[0m\u001b[1;33m,\u001b[0m \u001b[0mself\u001b[0m\u001b[1;33m.\u001b[0m\u001b[0msecond\u001b[0m\u001b[1;33m)\u001b[0m\u001b[1;33m\u001b[0m\u001b[1;33m\u001b[0m\u001b[0m\n\u001b[1;32m----> 6\u001b[1;33m \u001b[0mtime\u001b[0m \u001b[1;33m=\u001b[0m \u001b[0mTime\u001b[0m\u001b[1;33m(\u001b[0m\u001b[1;36m9\u001b[0m\u001b[1;33m,\u001b[0m \u001b[1;36m45\u001b[0m\u001b[1;33m)\u001b[0m\u001b[1;33m\u001b[0m\u001b[1;33m\u001b[0m\u001b[0m\n\u001b[0m\u001b[0;32m      7\u001b[0m \u001b[0mtime\u001b[0m\u001b[1;33m.\u001b[0m\u001b[0mprint_time\u001b[0m\u001b[1;33m(\u001b[0m\u001b[1;33m)\u001b[0m\u001b[1;33m\u001b[0m\u001b[1;33m\u001b[0m\u001b[0m\n",
      "\u001b[1;31mTypeError\u001b[0m: Time() takes no arguments"
     ]
    }
   ],
   "source": [
    "class Time:\n",
    "    def print_time(self):\n",
    "        print('%.2d:%.2d:%.2d' % (self.hour, self.minute, self.second))\n",
    "    def __str__(self):\n",
    "        return '%.2d:%.2d:%.2d' % (self.hour, self.minute, self.second)\n",
    "time = Time(9, 45)\n",
    "time.print_time()"
   ]
  },
  {
   "cell_type": "code",
   "execution_count": 186,
   "metadata": {},
   "outputs": [
    {
     "ename": "TypeError",
     "evalue": "Time() takes no arguments",
     "output_type": "error",
     "traceback": [
      "\u001b[1;31m---------------------------------------------------------------------------\u001b[0m",
      "\u001b[1;31mTypeError\u001b[0m                                 Traceback (most recent call last)",
      "\u001b[1;32m<ipython-input-186-28d616e7dca8>\u001b[0m in \u001b[0;36m<module>\u001b[1;34m\u001b[0m\n\u001b[0;32m      5\u001b[0m         \u001b[0mseconds\u001b[0m \u001b[1;33m=\u001b[0m \u001b[0mself\u001b[0m\u001b[1;33m.\u001b[0m\u001b[0mtime_to_int\u001b[0m\u001b[1;33m(\u001b[0m\u001b[1;33m)\u001b[0m \u001b[1;33m+\u001b[0m \u001b[0mother\u001b[0m\u001b[1;33m.\u001b[0m\u001b[0mtime_to_int\u001b[0m\u001b[1;33m(\u001b[0m\u001b[1;33m)\u001b[0m\u001b[1;33m\u001b[0m\u001b[1;33m\u001b[0m\u001b[0m\n\u001b[0;32m      6\u001b[0m         \u001b[1;32mreturn\u001b[0m \u001b[0mint_to_time\u001b[0m\u001b[1;33m(\u001b[0m\u001b[0mseconds\u001b[0m\u001b[1;33m)\u001b[0m\u001b[1;33m\u001b[0m\u001b[1;33m\u001b[0m\u001b[0m\n\u001b[1;32m----> 7\u001b[1;33m \u001b[0mstart\u001b[0m \u001b[1;33m=\u001b[0m \u001b[0mTime\u001b[0m\u001b[1;33m(\u001b[0m\u001b[1;36m9\u001b[0m\u001b[1;33m,\u001b[0m \u001b[1;36m45\u001b[0m\u001b[1;33m)\u001b[0m\u001b[1;33m\u001b[0m\u001b[1;33m\u001b[0m\u001b[0m\n\u001b[0m\u001b[0;32m      8\u001b[0m \u001b[0mduration\u001b[0m \u001b[1;33m=\u001b[0m \u001b[0mTime\u001b[0m\u001b[1;33m(\u001b[0m\u001b[1;36m1\u001b[0m\u001b[1;33m,\u001b[0m \u001b[1;36m35\u001b[0m\u001b[1;33m)\u001b[0m\u001b[1;33m\u001b[0m\u001b[1;33m\u001b[0m\u001b[0m\n\u001b[0;32m      9\u001b[0m \u001b[0mprint\u001b[0m\u001b[1;33m(\u001b[0m\u001b[0mstart\u001b[0m \u001b[1;33m+\u001b[0m \u001b[0mduration\u001b[0m\u001b[1;33m)\u001b[0m\u001b[1;33m\u001b[0m\u001b[1;33m\u001b[0m\u001b[0m\n",
      "\u001b[1;31mTypeError\u001b[0m: Time() takes no arguments"
     ]
    }
   ],
   "source": [
    "class Time:\n",
    "    def print_time(self):\n",
    "        print('%.2d:%.2d:%.2d' % (self.hour, self.minute, self.second))\n",
    "    def __add__(self, other):\n",
    "        seconds = self.time_to_int() + other.time_to_int()\n",
    "        return int_to_time(seconds)\n",
    "start = Time(9, 45)\n",
    "duration = Time(1, 35)\n",
    "print(start + duration)"
   ]
  },
  {
   "cell_type": "code",
   "execution_count": 183,
   "metadata": {},
   "outputs": [
    {
     "name": "stdout",
     "output_type": "stream",
     "text": [
      "09:00:00\n"
     ]
    }
   ],
   "source": [
    "time = Time(9)\n",
    "time.print_time()"
   ]
  },
  {
   "cell_type": "code",
   "execution_count": 184,
   "metadata": {},
   "outputs": [
    {
     "name": "stdout",
     "output_type": "stream",
     "text": [
      "09:45:00\n"
     ]
    }
   ],
   "source": [
    "time = Time(9,45)\n",
    "time.print_time()"
   ]
  },
  {
   "cell_type": "code",
   "execution_count": 116,
   "metadata": {},
   "outputs": [
    {
     "data": {
      "text/plain": [
       "{'spam': 4, 'egg': 1, 'bacon': 1}"
      ]
     },
     "execution_count": 116,
     "metadata": {},
     "output_type": "execute_result"
    }
   ],
   "source": [
    "def histogram(s):\n",
    "    d = dict()\n",
    "    for c in s:\n",
    "        if c not in d:\n",
    "            d[c] = 1\n",
    "        else:\n",
    "            d[c] = d[c]+1\n",
    "    return d\n",
    "t = ['spam', 'egg', 'spam', 'spam', 'bacon', 'spam']\n",
    "histogram(t)"
   ]
  },
  {
   "cell_type": "code",
   "execution_count": 118,
   "metadata": {},
   "outputs": [
    {
     "ename": "TypeError",
     "evalue": "Time() takes no arguments",
     "output_type": "error",
     "traceback": [
      "\u001b[1;31m---------------------------------------------------------------------------\u001b[0m",
      "\u001b[1;31mTypeError\u001b[0m                                 Traceback (most recent call last)",
      "\u001b[1;32m<ipython-input-118-38a75254e5ea>\u001b[0m in \u001b[0;36m<module>\u001b[1;34m\u001b[0m\n\u001b[1;32m----> 1\u001b[1;33m \u001b[0mt1\u001b[0m \u001b[1;33m=\u001b[0m \u001b[0mTime\u001b[0m\u001b[1;33m(\u001b[0m\u001b[1;36m7\u001b[0m\u001b[1;33m,\u001b[0m \u001b[1;36m43\u001b[0m\u001b[1;33m)\u001b[0m\u001b[1;33m\u001b[0m\u001b[1;33m\u001b[0m\u001b[0m\n\u001b[0m\u001b[0;32m      2\u001b[0m \u001b[0mt2\u001b[0m \u001b[1;33m=\u001b[0m \u001b[0mTime\u001b[0m\u001b[1;33m(\u001b[0m\u001b[1;36m7\u001b[0m\u001b[1;33m,\u001b[0m \u001b[1;36m41\u001b[0m\u001b[1;33m)\u001b[0m\u001b[1;33m\u001b[0m\u001b[1;33m\u001b[0m\u001b[0m\n\u001b[0;32m      3\u001b[0m \u001b[0mt3\u001b[0m \u001b[1;33m=\u001b[0m \u001b[0mTime\u001b[0m\u001b[1;33m(\u001b[0m\u001b[1;36m7\u001b[0m\u001b[1;33m,\u001b[0m \u001b[1;36m37\u001b[0m\u001b[1;33m)\u001b[0m\u001b[1;33m\u001b[0m\u001b[1;33m\u001b[0m\u001b[0m\n\u001b[0;32m      4\u001b[0m \u001b[0mtotal\u001b[0m \u001b[1;33m=\u001b[0m \u001b[0msum\u001b[0m\u001b[1;33m(\u001b[0m\u001b[1;33m[\u001b[0m\u001b[0mt1\u001b[0m\u001b[1;33m,\u001b[0m \u001b[0mt2\u001b[0m\u001b[1;33m,\u001b[0m \u001b[0mt3\u001b[0m\u001b[1;33m]\u001b[0m\u001b[1;33m)\u001b[0m\u001b[1;33m\u001b[0m\u001b[1;33m\u001b[0m\u001b[0m\n\u001b[0;32m      5\u001b[0m \u001b[0mprint\u001b[0m\u001b[1;33m(\u001b[0m\u001b[0mtotal\u001b[0m\u001b[1;33m)\u001b[0m\u001b[1;33m\u001b[0m\u001b[1;33m\u001b[0m\u001b[0m\n",
      "\u001b[1;31mTypeError\u001b[0m: Time() takes no arguments"
     ]
    }
   ],
   "source": [
    "t1 = Time(7, 43)\n",
    "t2 = Time(7, 41)\n",
    "t3 = Time(7, 37)\n",
    "total = sum([t1, t2, t3])\n",
    "print(total)"
   ]
  },
  {
   "cell_type": "code",
   "execution_count": 190,
   "metadata": {},
   "outputs": [
    {
     "name": "stdout",
     "output_type": "stream",
     "text": [
      "Jack of Hearts\n"
     ]
    }
   ],
   "source": [
    "class Card:\n",
    "    \"\"\"Represents a standard playing card.\"\"\"\n",
    "    def __init__(self, suit=0, rank=2):\n",
    "        self.suit = suit\n",
    "        self.rank = rank\n",
    "    \n",
    "    suit_names = ['Clubs', 'Diamonds', 'Hearts', 'Spades']\n",
    "    rank_names = [None, 'Ace', '2', '3', '4', '5', '6', '7',\n",
    "    '8', '9', '10', 'Jack', 'Queen', 'King']\n",
    "    def __str__(self):\n",
    "        return '%s of %s' % (Card.rank_names[self.rank],\n",
    "                                Card.suit_names[self.suit])\n",
    "card1 = Card(2, 11)\n",
    "print(card1)"
   ]
  },
  {
   "cell_type": "code",
   "execution_count": 196,
   "metadata": {},
   "outputs": [
    {
     "ename": "NameError",
     "evalue": "name 'self' is not defined",
     "output_type": "error",
     "traceback": [
      "\u001b[1;31m---------------------------------------------------------------------------\u001b[0m",
      "\u001b[1;31mNameError\u001b[0m                                 Traceback (most recent call last)",
      "\u001b[1;32mcell_name\u001b[0m in \u001b[0;36masync-def-wrapper\u001b[1;34m()\u001b[0m\n",
      "\u001b[1;31mNameError\u001b[0m: name 'self' is not defined"
     ]
    }
   ],
   "source": [
    "class Card:\n",
    "    \"\"\"Represents a standard playing card.\"\"\"\n",
    "    def __init__(self, suit=0, rank=2):\n",
    "        self.suit = suit\n",
    "        self.rank = rank\n",
    "    def __lt__(self, other):\n",
    "        if self.suit < other.suit: return True\n",
    "        if self.suit > other.suit: return False\n",
    "\n",
    "return self.rank < other.rank"
   ]
  },
  {
   "cell_type": "code",
   "execution_count": 197,
   "metadata": {},
   "outputs": [],
   "source": [
    "class Card:\n",
    "    \"\"\"Represents a standard playing card.\"\"\"\n",
    "    def __init__(self, suit=0, rank=2):\n",
    "        self.suit = suit\n",
    "        self.rank = rank\n",
    "    def __init__(self):\n",
    "        self.cards = []\n",
    "        for suit in range(4):\n",
    "            for rank in range(1, 14):\n",
    "                card = Card(suit, rank)\n",
    "                self.cards.append(card)"
   ]
  },
  {
   "cell_type": "code",
   "execution_count": 122,
   "metadata": {},
   "outputs": [
    {
     "ename": "TypeError",
     "evalue": "Card() takes no arguments",
     "output_type": "error",
     "traceback": [
      "\u001b[1;31m---------------------------------------------------------------------------\u001b[0m",
      "\u001b[1;31mTypeError\u001b[0m                                 Traceback (most recent call last)",
      "\u001b[1;32m<ipython-input-122-9fb898faaae0>\u001b[0m in \u001b[0;36m<module>\u001b[1;34m\u001b[0m\n\u001b[1;32m----> 1\u001b[1;33m \u001b[0mqueen_of_diamonds\u001b[0m \u001b[1;33m=\u001b[0m \u001b[0mCard\u001b[0m\u001b[1;33m(\u001b[0m\u001b[1;36m1\u001b[0m\u001b[1;33m,\u001b[0m \u001b[1;36m12\u001b[0m\u001b[1;33m)\u001b[0m\u001b[1;33m\u001b[0m\u001b[1;33m\u001b[0m\u001b[0m\n\u001b[0m",
      "\u001b[1;31mTypeError\u001b[0m: Card() takes no arguments"
     ]
    }
   ],
   "source": [
    "queen_of_diamonds = Card(1, 12)"
   ]
  },
  {
   "cell_type": "markdown",
   "metadata": {},
   "source": [
    "Grus: Chapter 2, p.27- 36"
   ]
  },
  {
   "cell_type": "code",
   "execution_count": 134,
   "metadata": {},
   "outputs": [
    {
     "data": {
      "text/plain": [
       "8"
      ]
     },
     "execution_count": 134,
     "metadata": {},
     "output_type": "execute_result"
    }
   ],
   "source": [
    "def exp(base, power):\n",
    "    return base ** power\n",
    "exp(2,3)"
   ]
  },
  {
   "cell_type": "code",
   "execution_count": 135,
   "metadata": {},
   "outputs": [
    {
     "data": {
      "text/plain": [
       "16"
      ]
     },
     "execution_count": 135,
     "metadata": {},
     "output_type": "execute_result"
    }
   ],
   "source": [
    "def two_to_the(power):\n",
    "    return exp(2, power)\n",
    "two_to_the(4)\n"
   ]
  },
  {
   "cell_type": "code",
   "execution_count": 138,
   "metadata": {},
   "outputs": [
    {
     "ename": "IndentationError",
     "evalue": "unexpected indent (<ipython-input-138-08e60f7c6db2>, line 3)",
     "output_type": "error",
     "traceback": [
      "\u001b[1;36m  File \u001b[1;32m\"<ipython-input-138-08e60f7c6db2>\"\u001b[1;36m, line \u001b[1;32m3\u001b[0m\n\u001b[1;33m    print two_to_the(3)\u001b[0m\n\u001b[1;37m    ^\u001b[0m\n\u001b[1;31mIndentationError\u001b[0m\u001b[1;31m:\u001b[0m unexpected indent\n"
     ]
    }
   ],
   "source": [
    "from functools import partial\n",
    "two_to_the = partial(exp, 2) \n",
    "print two_to_the(3)"
   ]
  },
  {
   "cell_type": "code",
   "execution_count": 152,
   "metadata": {},
   "outputs": [
    {
     "name": "stdout",
     "output_type": "stream",
     "text": [
      "[2, 4, 6, 8]\n",
      "<map object at 0x0000015A2BB95908>\n",
      "functools.partial(<class 'map'>, <function double at 0x0000015A2BB94AE8>)\n",
      "<map object at 0x0000015A2BB95898>\n"
     ]
    }
   ],
   "source": [
    "from functools import partial\n",
    "def double(x):\n",
    "    return 2 * x\n",
    "xs = [1, 2, 3, 4]\n",
    "twice_xs = [double(x) for x in xs] \n",
    "print(twice_xs)\n",
    "twice_xs = map(double, xs)\n",
    "print(twice_xs)\n",
    "list_doubler = partial(map, double)\n",
    "print(list_doubler)\n",
    "twice_xs = list_doubler(xs)\n",
    "print(twice_xs)\n"
   ]
  },
  {
   "cell_type": "code",
   "execution_count": 144,
   "metadata": {},
   "outputs": [
    {
     "data": {
      "text/plain": [
       "<map at 0x15a2bb80d68>"
      ]
     },
     "execution_count": 144,
     "metadata": {},
     "output_type": "execute_result"
    }
   ],
   "source": [
    "def multiply(x, y): return x * y\n",
    "products = map(multiply, [1, 2], [4, 5])\n",
    "products"
   ]
  },
  {
   "cell_type": "code",
   "execution_count": 146,
   "metadata": {},
   "outputs": [
    {
     "data": {
      "text/plain": [
       "<zip at 0x15a2bc63908>"
      ]
     },
     "execution_count": 146,
     "metadata": {},
     "output_type": "execute_result"
    }
   ],
   "source": [
    "list1 = ['a', 'b', 'c']\n",
    "list2 = [1, 2, 3]\n",
    "t= zip(list1, list2)\n",
    "t"
   ]
  },
  {
   "cell_type": "code",
   "execution_count": 155,
   "metadata": {},
   "outputs": [
    {
     "name": "stdout",
     "output_type": "stream",
     "text": [
      "[2, 4]\n",
      "<filter object at 0x0000015A2BB93B38>\n"
     ]
    }
   ],
   "source": [
    "def is_even(x):\n",
    "    \"\"\"True if x is even, False if x is odd\"\"\"\n",
    "    return x % 2 == 0\n",
    "x_evens = [x for x in xs if is_even(x)]\n",
    "print(x_evens)\n",
    "x_evens1 = filter(is_even, xs)\n",
    "print(x_evens1)"
   ]
  },
  {
   "cell_type": "code",
   "execution_count": 156,
   "metadata": {},
   "outputs": [
    {
     "data": {
      "text/plain": [
       "3"
      ]
     },
     "execution_count": 156,
     "metadata": {},
     "output_type": "execute_result"
    }
   ],
   "source": [
    "def add(a, b): return a + b\n",
    "add(1, 2)"
   ]
  },
  {
   "cell_type": "code",
   "execution_count": 157,
   "metadata": {},
   "outputs": [
    {
     "ename": "TypeError",
     "evalue": "add() missing 1 required positional argument: 'b'",
     "output_type": "error",
     "traceback": [
      "\u001b[1;31m---------------------------------------------------------------------------\u001b[0m",
      "\u001b[1;31mTypeError\u001b[0m                                 Traceback (most recent call last)",
      "\u001b[1;32m<ipython-input-157-02b5924a77bd>\u001b[0m in \u001b[0;36m<module>\u001b[1;34m\u001b[0m\n\u001b[1;32m----> 1\u001b[1;33m \u001b[0madd\u001b[0m\u001b[1;33m(\u001b[0m\u001b[1;33m[\u001b[0m\u001b[1;36m1\u001b[0m\u001b[1;33m,\u001b[0m \u001b[1;36m2\u001b[0m\u001b[1;33m]\u001b[0m\u001b[1;33m)\u001b[0m\u001b[1;33m\u001b[0m\u001b[1;33m\u001b[0m\u001b[0m\n\u001b[0m",
      "\u001b[1;31mTypeError\u001b[0m: add() missing 1 required positional argument: 'b'"
     ]
    }
   ],
   "source": [
    "add([1, 2])"
   ]
  },
  {
   "cell_type": "code",
   "execution_count": 158,
   "metadata": {},
   "outputs": [
    {
     "data": {
      "text/plain": [
       "3"
      ]
     },
     "execution_count": 158,
     "metadata": {},
     "output_type": "execute_result"
    }
   ],
   "source": [
    "add(*[1, 2])"
   ]
  },
  {
   "cell_type": "code",
   "execution_count": 159,
   "metadata": {},
   "outputs": [],
   "source": [
    "def doubler(f):\n",
    "    def g(x):\n",
    "        return 2 * f(x)\n",
    "    return g"
   ]
  },
  {
   "cell_type": "code",
   "execution_count": 166,
   "metadata": {},
   "outputs": [
    {
     "name": "stdout",
     "output_type": "stream",
     "text": [
      "8\n",
      "0\n"
     ]
    }
   ],
   "source": [
    "def f1(x):\n",
    "    return x + 1\n",
    "g = doubler(f1)\n",
    "print (g(3))\n",
    "print(g(-1))"
   ]
  },
  {
   "cell_type": "code",
   "execution_count": 168,
   "metadata": {},
   "outputs": [
    {
     "ename": "TypeError",
     "evalue": "g() takes 1 positional argument but 2 were given",
     "output_type": "error",
     "traceback": [
      "\u001b[1;31m---------------------------------------------------------------------------\u001b[0m",
      "\u001b[1;31mTypeError\u001b[0m                                 Traceback (most recent call last)",
      "\u001b[1;32m<ipython-input-168-e2e5f4a63961>\u001b[0m in \u001b[0;36m<module>\u001b[1;34m\u001b[0m\n\u001b[0;32m      2\u001b[0m     \u001b[1;32mreturn\u001b[0m \u001b[0mx\u001b[0m \u001b[1;33m+\u001b[0m \u001b[0my\u001b[0m\u001b[1;33m\u001b[0m\u001b[1;33m\u001b[0m\u001b[0m\n\u001b[0;32m      3\u001b[0m \u001b[0mg1\u001b[0m \u001b[1;33m=\u001b[0m \u001b[0mdoubler\u001b[0m\u001b[1;33m(\u001b[0m\u001b[0mf2\u001b[0m\u001b[1;33m)\u001b[0m\u001b[1;33m\u001b[0m\u001b[1;33m\u001b[0m\u001b[0m\n\u001b[1;32m----> 4\u001b[1;33m \u001b[0mprint\u001b[0m \u001b[1;33m(\u001b[0m\u001b[0mg1\u001b[0m\u001b[1;33m(\u001b[0m\u001b[1;36m1\u001b[0m\u001b[1;33m,\u001b[0m \u001b[1;36m2\u001b[0m\u001b[1;33m)\u001b[0m\u001b[1;33m)\u001b[0m\u001b[1;33m\u001b[0m\u001b[1;33m\u001b[0m\u001b[0m\n\u001b[0m",
      "\u001b[1;31mTypeError\u001b[0m: g() takes 1 positional argument but 2 were given"
     ]
    }
   ],
   "source": [
    "def f2(x, y):\n",
    "    return x + y\n",
    "g1 = doubler(f2)\n",
    "print (g1(1, 2))"
   ]
  },
  {
   "cell_type": "code",
   "execution_count": 169,
   "metadata": {},
   "outputs": [
    {
     "name": "stdout",
     "output_type": "stream",
     "text": [
      "unnamed args: (1, 2)\n",
      "keyword args: {'key': 'word', 'key2': 'word2'}\n"
     ]
    }
   ],
   "source": [
    "def magic(*args, **kwargs):\n",
    "    print (\"unnamed args:\", args)\n",
    "    print (\"keyword args:\", kwargs)\n",
    "magic(1, 2, key=\"word\", key2=\"word2\")"
   ]
  },
  {
   "cell_type": "code",
   "execution_count": 170,
   "metadata": {},
   "outputs": [
    {
     "name": "stdout",
     "output_type": "stream",
     "text": [
      "6\n"
     ]
    }
   ],
   "source": [
    "def other_way_magic(x, y, z):\n",
    "    return x + y + z\n",
    "x_y_list = [1, 2]\n",
    "z_dict = { \"z\" : 3 }\n",
    "print (other_way_magic(*x_y_list, **z_dict))"
   ]
  },
  {
   "cell_type": "code",
   "execution_count": 172,
   "metadata": {},
   "outputs": [
    {
     "name": "stdout",
     "output_type": "stream",
     "text": [
      "6\n"
     ]
    }
   ],
   "source": [
    "def doubler_correct(f):\n",
    "    \"\"\"works no matter what kind of inputs f expects\"\"\"\n",
    "    def g(*args, **kwargs):\n",
    "        \"\"\"whatever arguments g is supplied, pass them through to f\"\"\"\n",
    "        return 2 * f(*args, **kwargs)\n",
    "    return g\n",
    "g = doubler_correct(f2)\n",
    "print (g(1, 2))"
   ]
  },
  {
   "cell_type": "code",
   "execution_count": 173,
   "metadata": {},
   "outputs": [
    {
     "ename": "NameError",
     "evalue": "name 'documents' is not defined",
     "output_type": "error",
     "traceback": [
      "\u001b[1;31m---------------------------------------------------------------------------\u001b[0m",
      "\u001b[1;31mNameError\u001b[0m                                 Traceback (most recent call last)",
      "\u001b[1;32m<ipython-input-173-ebbf6cedc6c4>\u001b[0m in \u001b[0;36m<module>\u001b[1;34m\u001b[0m\n\u001b[1;32m----> 1\u001b[1;33m \u001b[1;32mfor\u001b[0m \u001b[0mi\u001b[0m\u001b[1;33m,\u001b[0m \u001b[0mdocument\u001b[0m \u001b[1;32min\u001b[0m \u001b[0menumerate\u001b[0m\u001b[1;33m(\u001b[0m\u001b[0mdocuments\u001b[0m\u001b[1;33m)\u001b[0m\u001b[1;33m:\u001b[0m\u001b[1;33m\u001b[0m\u001b[1;33m\u001b[0m\u001b[0m\n\u001b[0m\u001b[0;32m      2\u001b[0m     \u001b[0mdo_something\u001b[0m\u001b[1;33m(\u001b[0m\u001b[0mi\u001b[0m\u001b[1;33m,\u001b[0m \u001b[0mdocument\u001b[0m\u001b[1;33m)\u001b[0m\u001b[1;33m\u001b[0m\u001b[1;33m\u001b[0m\u001b[0m\n",
      "\u001b[1;31mNameError\u001b[0m: name 'documents' is not defined"
     ]
    }
   ],
   "source": []
  },
  {
   "cell_type": "code",
   "execution_count": null,
   "metadata": {},
   "outputs": [],
   "source": []
  }
 ],
 "metadata": {
  "kernelspec": {
   "display_name": "Python 3",
   "language": "python",
   "name": "python3"
  },
  "language_info": {
   "codemirror_mode": {
    "name": "ipython",
    "version": 3
   },
   "file_extension": ".py",
   "mimetype": "text/x-python",
   "name": "python",
   "nbconvert_exporter": "python",
   "pygments_lexer": "ipython3",
   "version": "3.7.1"
  }
 },
 "nbformat": 4,
 "nbformat_minor": 2
}
