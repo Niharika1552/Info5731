{
 "cells": [
  {
   "cell_type": "markdown",
   "metadata": {},
   "source": [
    "Question 1. (20 points). Which of the following statements contain only valid builtin\n",
    "functions in Python 3? If the statement is valid, explain what it does. If it is not\n",
    "valid, explain why not."
   ]
  },
  {
   "cell_type": "code",
   "execution_count": 5,
   "metadata": {},
   "outputs": [
    {
     "data": {
      "text/plain": [
       "True"
      ]
     },
     "execution_count": 5,
     "metadata": {},
     "output_type": "execute_result"
    }
   ],
   "source": [
    "\"A\".isupper()"
   ]
  },
  {
   "cell_type": "markdown",
   "metadata": {},
   "source": [
    "isupper() is a valid built-in function in python 3. This function checks wheater the given string is in Upper case or not. If tyhe given string is in upper case it returs True else it returns false"
   ]
  },
  {
   "cell_type": "code",
   "execution_count": 19,
   "metadata": {},
   "outputs": [
    {
     "ename": "SyntaxError",
     "evalue": "Missing parentheses in call to 'print'. Did you mean print(\"This is my Python class\")? (<ipython-input-19-6fbff18deb64>, line 1)",
     "output_type": "error",
     "traceback": [
      "\u001b[1;36m  File \u001b[1;32m\"<ipython-input-19-6fbff18deb64>\"\u001b[1;36m, line \u001b[1;32m1\u001b[0m\n\u001b[1;33m    print \"This is my Python class\";\u001b[0m\n\u001b[1;37m                                  ^\u001b[0m\n\u001b[1;31mSyntaxError\u001b[0m\u001b[1;31m:\u001b[0m Missing parentheses in call to 'print'. Did you mean print(\"This is my Python class\")?\n"
     ]
    }
   ],
   "source": [
    "print \"This is my Python class\";"
   ]
  },
  {
   "cell_type": "raw",
   "metadata": {},
   "source": [
    "print is a valid buitl in Function. This function prints the vales but the syntax given does not support in python 3. The statement must be enclosed in paranthesis. "
   ]
  },
  {
   "cell_type": "code",
   "execution_count": 14,
   "metadata": {},
   "outputs": [
    {
     "ename": "SyntaxError",
     "evalue": "invalid syntax (<ipython-input-14-52a29aa35e5e>, line 2)",
     "output_type": "error",
     "traceback": [
      "\u001b[1;36m  File \u001b[1;32m\"<ipython-input-14-52a29aa35e5e>\"\u001b[1;36m, line \u001b[1;32m2\u001b[0m\n\u001b[1;33m    x == 2 AND y > x\u001b[0m\n\u001b[1;37m             ^\u001b[0m\n\u001b[1;31mSyntaxError\u001b[0m\u001b[1;31m:\u001b[0m invalid syntax\n"
     ]
    }
   ],
   "source": [
    "\n",
    "x == 2 AND y > x"
   ]
  },
  {
   "cell_type": "markdown",
   "metadata": {},
   "source": [
    "python is a case-sensitive language. Python does not support AND. Instead of 'AND' we can use 'and'. With and, if all values are True, returns true. If any value is false, returns false."
   ]
  },
  {
   "cell_type": "code",
   "execution_count": 3,
   "metadata": {},
   "outputs": [
    {
     "data": {
      "text/plain": [
       "[2, 3, 4]"
      ]
     },
     "execution_count": 3,
     "metadata": {},
     "output_type": "execute_result"
    }
   ],
   "source": [
    "\n",
    "return t[1:]\n"
   ]
  },
  {
   "cell_type": "markdown",
   "metadata": {},
   "source": [
    "return is a valid built in function.Always return statement should be inside a function. 'return t[1:]' gives the values from the index 1(i.e., second values) to the end."
   ]
  },
  {
   "cell_type": "code",
   "execution_count": 18,
   "metadata": {},
   "outputs": [
    {
     "ename": "SyntaxError",
     "evalue": "unexpected EOF while parsing (<ipython-input-18-4ddd43803804>, line 2)",
     "output_type": "error",
     "traceback": [
      "\u001b[1;36m  File \u001b[1;32m\"<ipython-input-18-4ddd43803804>\"\u001b[1;36m, line \u001b[1;32m2\u001b[0m\n\u001b[1;33m    \u001b[0m\n\u001b[1;37m    ^\u001b[0m\n\u001b[1;31mSyntaxError\u001b[0m\u001b[1;31m:\u001b[0m unexpected EOF while parsing\n"
     ]
    }
   ],
   "source": [
    "if \"fruit\" in \"fruit apple\":\n",
    "    "
   ]
  },
  {
   "cell_type": "markdown",
   "metadata": {},
   "source": [
    "'if' is a valid built-in function. if the value on the left of in is present in right side of in then the statements inside the 'if' will be executed. "
   ]
  },
  {
   "cell_type": "code",
   "execution_count": 4,
   "metadata": {},
   "outputs": [
    {
     "ename": "AttributeError",
     "evalue": "'str' object has no attribute 'decode'",
     "output_type": "error",
     "traceback": [
      "\u001b[1;31m---------------------------------------------------------------------------\u001b[0m",
      "\u001b[1;31mAttributeError\u001b[0m                            Traceback (most recent call last)",
      "\u001b[1;32m<ipython-input-4-d059f7aad906>\u001b[0m in \u001b[0;36m<module>\u001b[1;34m\u001b[0m\n\u001b[0;32m      1\u001b[0m \u001b[1;32mwith\u001b[0m \u001b[0mopen\u001b[0m\u001b[1;33m(\u001b[0m\u001b[1;34m\"niha.txt\"\u001b[0m\u001b[1;33m,\u001b[0m \u001b[1;34m\"r\"\u001b[0m\u001b[1;33m)\u001b[0m \u001b[1;32mas\u001b[0m \u001b[0mf\u001b[0m\u001b[1;33m:\u001b[0m\u001b[1;33m\u001b[0m\u001b[1;33m\u001b[0m\u001b[0m\n\u001b[1;32m----> 2\u001b[1;33m     \u001b[0mtext\u001b[0m \u001b[1;33m=\u001b[0m \u001b[0mf\u001b[0m\u001b[1;33m.\u001b[0m\u001b[0mread\u001b[0m\u001b[1;33m(\u001b[0m\u001b[1;33m)\u001b[0m\u001b[1;33m.\u001b[0m\u001b[0mdecode\u001b[0m\u001b[1;33m(\u001b[0m\u001b[1;34m\"UTF-8\"\u001b[0m\u001b[1;33m)\u001b[0m\u001b[1;33m\u001b[0m\u001b[1;33m\u001b[0m\u001b[0m\n\u001b[0m",
      "\u001b[1;31mAttributeError\u001b[0m: 'str' object has no attribute 'decode'"
     ]
    }
   ],
   "source": [
    "with open(\"niha.txt\", \"r\") as f:\n",
    "    text = f.read().decode(\"UTF-8\")"
   ]
  },
  {
   "cell_type": "markdown",
   "metadata": {},
   "source": [
    "It opens the file in read mode and then using the decode function it reads the contains in UTF-8 format and assigns it to text variable. It"
   ]
  },
  {
   "cell_type": "code",
   "execution_count": 3,
   "metadata": {},
   "outputs": [
    {
     "data": {
      "text/plain": [
       "True"
      ]
     },
     "execution_count": 3,
     "metadata": {},
     "output_type": "execute_result"
    }
   ],
   "source": [
    "foo= None\n",
    "foo == None\n",
    "    \n"
   ]
  },
  {
   "cell_type": "markdown",
   "metadata": {},
   "source": [
    "if the variable foo equals to None then foo==None wii return True value if not it returns false."
   ]
  },
  {
   "cell_type": "code",
   "execution_count": 20,
   "metadata": {},
   "outputs": [
    {
     "ename": "TypeError",
     "evalue": "'str' object does not support item assignment",
     "output_type": "error",
     "traceback": [
      "\u001b[1;31m---------------------------------------------------------------------------\u001b[0m",
      "\u001b[1;31mTypeError\u001b[0m                                 Traceback (most recent call last)",
      "\u001b[1;32m<ipython-input-20-9bb4e55a7bde>\u001b[0m in \u001b[0;36m<module>\u001b[1;34m\u001b[0m\n\u001b[0;32m      1\u001b[0m \u001b[0mname\u001b[0m \u001b[1;33m=\u001b[0m \u001b[1;34m\"My name is Brenda\"\u001b[0m\u001b[1;33m\u001b[0m\u001b[1;33m\u001b[0m\u001b[0m\n\u001b[1;32m----> 2\u001b[1;33m \u001b[0mname\u001b[0m\u001b[1;33m[\u001b[0m\u001b[1;36m0\u001b[0m\u001b[1;33m]\u001b[0m \u001b[1;33m=\u001b[0m \u001b[1;34m\"A\"\u001b[0m\u001b[1;33m\u001b[0m\u001b[1;33m\u001b[0m\u001b[0m\n\u001b[0m",
      "\u001b[1;31mTypeError\u001b[0m: 'str' object does not support item assignment"
     ]
    }
   ],
   "source": [
    "name = \"My name is Brenda\"\n",
    "name[0] = \"A\""
   ]
  },
  {
   "cell_type": "markdown",
   "metadata": {},
   "source": [
    "string is immutable in pyton. It does not support assignment."
   ]
  },
  {
   "cell_type": "markdown",
   "metadata": {},
   "source": [
    "Write a program to prompt for a score between 0 and 100.\n",
    "If the score is out of range, print an error message. If the score is between 0 and 100,\n",
    "print a grade using the following table:\n",
    "\n",
    "Score Grade\n",
    "$$>= 90   A$$\n",
    "$$>= 80   B$$\n",
    "$$>= 70   C$$\n",
    "$$>= 60   D$$\n"
   ]
  },
  {
   "cell_type": "code",
   "execution_count": 5,
   "metadata": {},
   "outputs": [
    {
     "name": "stdout",
     "output_type": "stream",
     "text": [
      "Enter Your Score between 0 and 100\n",
      "35\n",
      "F\n"
     ]
    }
   ],
   "source": [
    "a= input('Enter Your Score between 0 and 100\\n')\n",
    "a=float(a)\n",
    "if (a<0 or a>100):\n",
    "    print('score is out of range, enter score between 0 and 100')\n",
    "elif a >=90:\n",
    "    print('A')\n",
    "elif a >=80:\n",
    "    print('B')\n",
    "elif a >=70:\n",
    "    print('C')\n",
    "elif a >=60:\n",
    "    print('D')\n",
    "elif a <60:\n",
    "    print('F')\n"
   ]
  },
  {
   "cell_type": "markdown",
   "metadata": {},
   "source": [
    "Question 3. (20 points). Write a Python program to generate 12 random numbers\n",
    "between 1 and 100. Sort the list of numbers in ascending order and print it out. Sort\n",
    "the list of numbers in descending order and print it out. Calculate the average for the\n",
    "group and print it out."
   ]
  },
  {
   "cell_type": "code",
   "execution_count": 16,
   "metadata": {},
   "outputs": [
    {
     "name": "stdout",
     "output_type": "stream",
     "text": [
      "ascending [2, 3, 11, 17, 19, 38, 49, 50, 52, 54, 58, 94]\n",
      "descending [94, 58, 54, 52, 50, 49, 38, 19, 17, 11, 3, 2]\n",
      "avg 37.25\n"
     ]
    }
   ],
   "source": [
    "import random\n",
    "rand = [random.randint(0, 100) for x in range(12)]\n",
    "asc=sorted(rand)\n",
    "print('ascending',asc)\n",
    "dsc=sorted(rand,reverse=True)\n",
    "print('descending',dsc)\n",
    "print('avg',sum(rand)/len(rand))\n",
    "\n"
   ]
  },
  {
   "cell_type": "markdown",
   "metadata": {},
   "source": [
    "Question 4. (20 points).The formula that describes the volume V of a sphere with\n",
    "radius r is the following:\n",
    "$$𝑉=\\frac43∗ 𝜋∗ 𝑟^3$$\n",
    "Write a program to calculate the value of V when r is in the range of 1– 10. Output\n",
    "the result in the following format:\n",
    "r V\n",
    "1 …\n",
    "2 …\n",
    "3 …"
   ]
  },
  {
   "cell_type": "code",
   "execution_count": 40,
   "metadata": {},
   "outputs": [
    {
     "name": "stdout",
     "output_type": "stream",
     "text": [
      "r     V\n",
      "1   4.1887902047863905\n",
      "2   33.510321638291124\n",
      "3   113.09733552923254\n",
      "4   268.082573106329\n",
      "5   523.5987755982989\n",
      "6   904.7786842338603\n",
      "7   1436.7550402417319\n",
      "8   2144.660584850632\n",
      "9   3053.6280592892786\n",
      "10   4188.790204786391\n"
     ]
    }
   ],
   "source": [
    "import math\n",
    "r=0\n",
    "v=0\n",
    "print('r''     ''V')\n",
    "for r in range (1,11): \n",
    "    v= (4/3)*(math.pi)*(r**3)\n",
    "    print(r,' ',v)"
   ]
  },
  {
   "cell_type": "markdown",
   "metadata": {},
   "source": [
    "Question 5. (25 points). Write a program that will do the following string\n",
    "formatting tasks:\n",
    "5.1 Ask the user to enter two sentences\n",
    "5.2 Make each sentence into a list. Each element in the list should correspond to\n",
    "a word in the sentence. For example, if the sentence is \"Alas! Am I alive? This\n",
    "is my first python program\", the program should print out ['Alas!', 'Am', 'I',\n",
    "'alive?', 'This', 'is', 'my', 'first', 'python', 'program'] or ['Alas, '!', 'Am', 'I', 'alive,\n",
    "'?', 'This', 'is', 'my', 'first', 'python', 'program']\n",
    "5.3 Compare the two sentences. Print out a list of words that occur in both\n",
    "sentences.\n",
    "5.4 Remove any punctuation from the sentence and print it back out. It should\n",
    "remove at least the following characters, but it can remove more: period(“.”),\n",
    "comma (“,”), semicolon (“;”), and colon (“:”)\n",
    "5.5 Count the number of vowels in the sentences. Print out each vowel and the\n",
    "number of times it appears in the sentences, such as: a:2, e:1, i:0, etc."
   ]
  },
  {
   "cell_type": "code",
   "execution_count": 17,
   "metadata": {},
   "outputs": [
    {
     "name": "stdout",
     "output_type": "stream",
     "text": [
      "enter  first sentence\n",
      "hello &H hhekjo &n\n",
      "enter second sentence\n",
      "hello 7yh&^% hhekjo &n\n"
     ]
    },
    {
     "data": {
      "text/plain": [
       "{'&n', 'hello', 'hhekjo'}"
      ]
     },
     "execution_count": 17,
     "metadata": {},
     "output_type": "execute_result"
    }
   ],
   "source": [
    "import string\n",
    "s1=input('enter  first sentence\\n')\n",
    "s2=input('enter second sentence\\n')\n",
    "split1=s1.split()\n",
    "split2=s2.split()\n",
    "set(split1) & set(split2)\n"
   ]
  },
  {
   "cell_type": "code",
   "execution_count": 18,
   "metadata": {},
   "outputs": [
    {
     "name": "stdout",
     "output_type": "stream",
     "text": [
      "hello H hhekjo n\n",
      "hello 7yh hhekjo n\n"
     ]
    }
   ],
   "source": [
    "import string\n",
    "for i in string.punctuation:\n",
    "    s1=s1.replace(i,\"\")\n",
    "    s2=s2.replace(i,\"\")\n",
    "print(s1)\n",
    "print(s2)"
   ]
  },
  {
   "cell_type": "code",
   "execution_count": 19,
   "metadata": {},
   "outputs": [
    {
     "name": "stdout",
     "output_type": "stream",
     "text": [
      "for 1st sentence: \n",
      "e 2\n",
      "o 2\n",
      "for 2nd sentence: \n",
      "e 2\n",
      "o 2\n"
     ]
    }
   ],
   "source": [
    "from collections import Counter\n",
    "\n",
    "vowels= ['a','e','i','o','u']\n",
    "print(\"for 1st sentence: \")\n",
    "for i in vowels:\n",
    "    if i in s1 :\n",
    "        print(i, s1.lower().count(i))\n",
    "print(\"for 2nd sentence: \")\n",
    "for i in vowels:\n",
    "    if i in s2 :       \n",
    "        print(i, s2.lower().count(i))   \n",
    "    \n",
    "    "
   ]
  },
  {
   "cell_type": "code",
   "execution_count": null,
   "metadata": {},
   "outputs": [],
   "source": []
  }
 ],
 "metadata": {
  "kernelspec": {
   "display_name": "Python 3",
   "language": "python",
   "name": "python3"
  },
  "language_info": {
   "codemirror_mode": {
    "name": "ipython",
    "version": 3
   },
   "file_extension": ".py",
   "mimetype": "text/x-python",
   "name": "python",
   "nbconvert_exporter": "python",
   "pygments_lexer": "ipython3",
   "version": "3.7.1"
  }
 },
 "nbformat": 4,
 "nbformat_minor": 2
}
